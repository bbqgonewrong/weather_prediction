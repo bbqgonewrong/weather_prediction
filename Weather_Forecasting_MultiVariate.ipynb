{
  "nbformat": 4,
  "nbformat_minor": 0,
  "metadata": {
    "colab": {
      "name": "Weather_Forecasting_MultiVariate.ipynb",
      "provenance": [],
      "toc_visible": true,
      "authorship_tag": "ABX9TyNHZd7sQeZ39Jr1ZDJctdSw",
      "include_colab_link": true
    },
    "kernelspec": {
      "name": "python3",
      "display_name": "Python 3"
    },
    "language_info": {
      "name": "python"
    }
  },
  "cells": [
    {
      "cell_type": "markdown",
      "metadata": {
        "id": "view-in-github",
        "colab_type": "text"
      },
      "source": [
        "<a href=\"https://colab.research.google.com/github/bbqgonewrong/weather_prediction/blob/main/Weather_Forecasting_MultiVariate.ipynb\" target=\"_parent\"><img src=\"https://colab.research.google.com/assets/colab-badge.svg\" alt=\"Open In Colab\"/></a>"
      ]
    },
    {
      "cell_type": "markdown",
      "source": [
        "##Importing libraries"
      ],
      "metadata": {
        "id": "AK9f_HDbkSWB"
      }
    },
    {
      "cell_type": "code",
      "execution_count": 5,
      "metadata": {
        "id": "Urqvw-3QVlz5"
      },
      "outputs": [],
      "source": [
        "import tensorflow as tf\n",
        "import os\n",
        "import pandas as pd\n",
        "import numpy as np\n",
        "from tensorflow.keras.models import Sequential\n",
        "from tensorflow.keras.layers import *\n",
        "from tensorflow.keras.callbacks import ModelCheckpoint\n",
        "from tensorflow.keras.losses import MeanSquaredError\n",
        "from tensorflow.keras.metrics import RootMeanSquaredError\n",
        "from tensorflow.keras.optimizers import Adam\n",
        "from tensorflow.keras.models import load_model\n",
        "import matplotlib.pyplot as plt\n",
        "from sklearn.metrics import mean_squared_error as mse\n",
        "\n"
      ]
    },
    {
      "cell_type": "markdown",
      "source": [
        "##Grabbing the data set from Tensorflow"
      ],
      "metadata": {
        "id": "bzXvx9UhkY5N"
      }
    },
    {
      "cell_type": "code",
      "source": [
        "#Importing dataset\n",
        "zip_path = tf.keras.utils.get_file(origin = 'https://storage.googleapis.com/tensorflow/tf-keras-datasets/jena_climate_2009_2016.csv.zip',\n",
        "                                   fname = 'jena_climate_2009_2016.csv.zip',\n",
        "                                   extract = True)\n",
        "csv_path,_ = os.path.splitext(zip_path)"
      ],
      "metadata": {
        "id": "RSHnnzUOV6Ei",
        "colab": {
          "base_uri": "https://localhost:8080/"
        },
        "outputId": "67587145-6a2a-47e3-b2c4-86d298b45cb0"
      },
      "execution_count": 2,
      "outputs": [
        {
          "output_type": "stream",
          "name": "stdout",
          "text": [
            "Downloading data from https://storage.googleapis.com/tensorflow/tf-keras-datasets/jena_climate_2009_2016.csv.zip\n",
            "13574144/13568290 [==============================] - 0s 0us/step\n",
            "13582336/13568290 [==============================] - 0s 0us/step\n"
          ]
        }
      ]
    },
    {
      "cell_type": "code",
      "source": [
        "df = pd.read_csv(csv_path)"
      ],
      "metadata": {
        "id": "-oNG2oUm-eRa"
      },
      "execution_count": 4,
      "outputs": []
    },
    {
      "cell_type": "code",
      "source": [
        "temp = df['T (degC)']"
      ],
      "metadata": {
        "id": "IHQLDp8IBMDK"
      },
      "execution_count": 30,
      "outputs": []
    },
    {
      "cell_type": "markdown",
      "source": [
        "##Creating the dataset from raw data"
      ],
      "metadata": {
        "id": "BTKINfOUctPm"
      }
    },
    {
      "cell_type": "code",
      "source": [
        "#Look at the last 4 values in order to set them as the target variable\n",
        "# x = [[[1],[2]],[3],[4],[5]]] y= [6]\n",
        "# [[[2],[3],[4],[5],[6]]] y = [7]\n",
        "\n",
        "def df_to_X_y(df,window_size = 5):\n",
        "  df_as_np = df.to_numpy()\n",
        "  X = []\n",
        "  y = []\n",
        "  for i in range(len(df_as_np)-window_size):\n",
        "    row = [[a] for a in df_as_np[i:i+window_size]]\n",
        "    X.append(row)\n",
        "    label = df_as_np[i+window_size]\n",
        "    y.append(label)\n",
        "  return np.array(X),np.array(y)"
      ],
      "metadata": {
        "id": "eLoavwBKXt4L"
      },
      "execution_count": 14,
      "outputs": []
    },
    {
      "cell_type": "code",
      "source": [
        "#Call the function to store the previous 5 temperatures for the row defined.\n",
        "df.index = pd.to_datetime(df['Date Time'],format = '%d.%m.%Y %H:%M:%S') #Converting the index to date time\n",
        "window_size = 5\n",
        "X,y = df_to_X_y(temp,window_size)\n",
        "X.shape,y.shape"
      ],
      "metadata": {
        "colab": {
          "base_uri": "https://localhost:8080/"
        },
        "id": "NvOsYfyzZ1GY",
        "outputId": "41fc1d4e-9e8a-4b61-e623-8804ed55f3d8"
      },
      "execution_count": 25,
      "outputs": [
        {
          "output_type": "execute_result",
          "data": {
            "text/plain": [
              "((420546, 5, 1), (420546,))"
            ]
          },
          "metadata": {},
          "execution_count": 25
        }
      ]
    },
    {
      "cell_type": "code",
      "source": [
        "X_train,y_train = X[:357464], y[:357464]\n",
        "X_val,y_val = X[357464:378490], y[357464:378490]\n",
        "X_test,y_test = X[378490:], y[378490:]"
      ],
      "metadata": {
        "id": "UAs_wBWwamQQ"
      },
      "execution_count": 26,
      "outputs": []
    },
    {
      "cell_type": "code",
      "source": [
        "X_val.shape,y_val.shape"
      ],
      "metadata": {
        "colab": {
          "base_uri": "https://localhost:8080/"
        },
        "id": "d8KypN3Mb1YK",
        "outputId": "23965fd1-3f19-4316-9415-a46d4e3a994d"
      },
      "execution_count": 27,
      "outputs": [
        {
          "output_type": "execute_result",
          "data": {
            "text/plain": [
              "((21026, 5, 1), (21026,))"
            ]
          },
          "metadata": {},
          "execution_count": 27
        }
      ]
    },
    {
      "cell_type": "markdown",
      "source": [
        "##Creating declaration in order to plot the predicted and the actual values created by models"
      ],
      "metadata": {
        "id": "vOC83pnrBC8y"
      }
    },
    {
      "cell_type": "code",
      "source": [
        "def plot_predictions(model,X,y,start = 0,end=100):\n",
        "  predictions = model.predict(X).flatten()\n",
        "  df = pd.DataFrame(data = {'Predictions': predictions,'Actuals': y})\n",
        "  plt.plot(df['Predictions'][start:end])\n",
        "  plt.plot(df['Actuals'][start:end])\n",
        "  return df,mse(y,predictions)"
      ],
      "metadata": {
        "id": "cGYUlaa9-oW4"
      },
      "execution_count": 6,
      "outputs": []
    },
    {
      "cell_type": "markdown",
      "source": [
        "#Defining the models used and performing univariate time-series analysis\n",
        "\n",
        "*   1D CNN\n",
        "*   GRU\n",
        "\n"
      ],
      "metadata": {
        "id": "JxJJxiACCjK5"
      }
    },
    {
      "cell_type": "markdown",
      "source": [
        "## 1 Dimensional CNN being used \n",
        "* Advantages: less complexity in implementation\n"
      ],
      "metadata": {
        "id": "R8pl8j-DC18n"
      }
    },
    {
      "cell_type": "markdown",
      "source": [
        "###Creating a 1d CNN model"
      ],
      "metadata": {
        "id": "RrLOUhX6_2st"
      }
    },
    {
      "cell_type": "code",
      "source": [
        "model2 = Sequential()\n",
        "model2.add(InputLayer((5,1)))\n",
        "model2.add(Conv1D(64,kernel_size = 2))\n",
        "model2.add(Flatten())\n",
        "model2.add(Dense(8,'relu'))\n",
        "model2.add(Dense(1,'linear'))\n",
        "\n",
        "model2.summary()"
      ],
      "metadata": {
        "colab": {
          "base_uri": "https://localhost:8080/"
        },
        "id": "Kn3oshc-dUqZ",
        "outputId": "71ee9325-c983-46ca-bcc4-a89e9ddc28b7"
      },
      "execution_count": 8,
      "outputs": [
        {
          "output_type": "stream",
          "name": "stdout",
          "text": [
            "Model: \"sequential_1\"\n",
            "_________________________________________________________________\n",
            " Layer (type)                Output Shape              Param #   \n",
            "=================================================================\n",
            " conv1d (Conv1D)             (None, 4, 64)             192       \n",
            "                                                                 \n",
            " flatten (Flatten)           (None, 256)               0         \n",
            "                                                                 \n",
            " dense_2 (Dense)             (None, 8)                 2056      \n",
            "                                                                 \n",
            " dense_3 (Dense)             (None, 1)                 9         \n",
            "                                                                 \n",
            "=================================================================\n",
            "Total params: 2,257\n",
            "Trainable params: 2,257\n",
            "Non-trainable params: 0\n",
            "_________________________________________________________________\n"
          ]
        }
      ]
    },
    {
      "cell_type": "code",
      "source": [
        "#Plotting the model for viewing\n",
        "tf.keras.utils.plot_model(\n",
        "    model2,\n",
        "    to_file='model.png',\n",
        "    show_shapes=True,\n",
        "    show_dtype=False,\n",
        "    show_layer_names=True,\n",
        "    rankdir='TB',\n",
        "    expand_nested=False,\n",
        "    dpi=96,\n",
        "    layer_range=None,\n",
        "    show_layer_activations=False\n",
        ")"
      ],
      "metadata": {
        "colab": {
          "base_uri": "https://localhost:8080/",
          "height": 533
        },
        "id": "kE897Nf3du65",
        "outputId": "f539c871-6c27-401b-9121-39fbfdaa68a4"
      },
      "execution_count": 10,
      "outputs": [
        {
          "output_type": "execute_result",
          "data": {
            "text/plain": [
              "<IPython.core.display.Image object>"
            ],
            "image/png": "[encoded data removed]"
          },
          "metadata": {},
          "execution_count": 10
        }
      ]
    },
    {
      "cell_type": "markdown",
      "source": [
        "###Compiling the model and the optimizers and defining callbacks"
      ],
      "metadata": {
        "id": "yrZTKNZeeQmF"
      }
    },
    {
      "cell_type": "code",
      "source": [
        "cp2 = ModelCheckpoint('model2/',save_best_only=True)\n",
        "model2.compile(loss=MeanSquaredError(),optimizer=Adam(learning_rate = 1e-4),metrics = [RootMeanSquaredError()])\n"
      ],
      "metadata": {
        "id": "43qGlLWEd-uA"
      },
      "execution_count": 18,
      "outputs": []
    },
    {
      "cell_type": "markdown",
      "source": [
        "###Training the 1d CNN model"
      ],
      "metadata": {
        "id": "2gCYf-k1fRtv"
      }
    },
    {
      "cell_type": "code",
      "source": [
        "model2.fit(X_train,y_train,validation_data = (X_val,y_val),epochs = 10,callbacks=[cp2])"
      ],
      "metadata": {
        "id": "ontkKojYfUBb"
      },
      "execution_count": null,
      "outputs": []
    },
    {
      "cell_type": "code",
      "source": [
        "model2 = load_model('model2/')"
      ],
      "metadata": {
        "id": "kRUG97VUguGP"
      },
      "execution_count": null,
      "outputs": []
    },
    {
      "cell_type": "markdown",
      "source": [
        "## Using a Gated Recurrent Unit (GRU)"
      ],
      "metadata": {
        "id": "gwniWCQgDFiV"
      }
    },
    {
      "cell_type": "markdown",
      "source": [
        "###Defining the GRU model"
      ],
      "metadata": {
        "id": "x3yKCsUeDXZu"
      }
    },
    {
      "cell_type": "code",
      "source": [
        "model3 = Sequential()\n",
        "model3.add(InputLayer((5,1)))\n",
        "model3.add(GRU(64))\n",
        "model3.add(Dense(8,'relu'))\n",
        "model3.add(Dense(1,'linear'))\n",
        "\n",
        "model3.summary()"
      ],
      "metadata": {
        "colab": {
          "base_uri": "https://localhost:8080/"
        },
        "outputId": "d6d7428e-3a38-4c73-b3e6-cff5b5a90d0c",
        "id": "FEyFanihDcsq"
      },
      "execution_count": 20,
      "outputs": [
        {
          "output_type": "stream",
          "name": "stdout",
          "text": [
            "Model: \"sequential_2\"\n",
            "_________________________________________________________________\n",
            " Layer (type)                Output Shape              Param #   \n",
            "=================================================================\n",
            " gru (GRU)                   (None, 64)                12864     \n",
            "                                                                 \n",
            " dense_4 (Dense)             (None, 8)                 520       \n",
            "                                                                 \n",
            " dense_5 (Dense)             (None, 1)                 9         \n",
            "                                                                 \n",
            "=================================================================\n",
            "Total params: 13,393\n",
            "Trainable params: 13,393\n",
            "Non-trainable params: 0\n",
            "_________________________________________________________________\n"
          ]
        }
      ]
    },
    {
      "cell_type": "code",
      "source": [
        "#Plotting the model for viewing\n",
        "tf.keras.utils.plot_model(\n",
        "    model3,\n",
        "    to_file='model.png',\n",
        "    show_shapes=True,\n",
        "    show_dtype=False,\n",
        "    show_layer_names=True,\n",
        "    rankdir='TB',\n",
        "    expand_nested=False,\n",
        "    dpi=96,\n",
        "    layer_range=None,\n",
        "    show_layer_activations=False\n",
        ")"
      ],
      "metadata": {
        "colab": {
          "base_uri": "https://localhost:8080/",
          "height": 422
        },
        "outputId": "cb031ce5-f755-4014-aedb-ec41fa2d5435",
        "id": "UH6vi1fLDcsr"
      },
      "execution_count": 22,
      "outputs": [
        {
          "output_type": "execute_result",
          "data": {
            "text/plain": [
              "<IPython.core.display.Image object>"
            ],
            "image/png": "[encoded data removed]"
          },
          "metadata": {},
          "execution_count": 22
        }
      ]
    },
    {
      "cell_type": "markdown",
      "source": [
        "###Compiling the model and the optimizers and defining callbacks"
      ],
      "metadata": {
        "id": "o8hVFLsJD7nT"
      }
    },
    {
      "cell_type": "code",
      "source": [
        "cp3 = ModelCheckpoint('model3/',save_best_only=True)\n",
        "model3.compile(loss=MeanSquaredError(),optimizer=Adam(learning_rate = 1e-4),metrics = [RootMeanSquaredError()])\n"
      ],
      "metadata": {
        "id": "Stq3wZGtD7nU"
      },
      "execution_count": 23,
      "outputs": []
    },
    {
      "cell_type": "markdown",
      "source": [
        "###Training the 1d CNN model"
      ],
      "metadata": {
        "id": "zVSOeT2lEErD"
      }
    },
    {
      "cell_type": "code",
      "source": [
        "model3.fit(X_train,y_train,validation_data = (X_val,y_val),epochs = 10,callbacks=[cp3])"
      ],
      "metadata": {
        "colab": {
          "base_uri": "https://localhost:8080/"
        },
        "id": "xSSg1AYaEErD",
        "outputId": "741f7d8d-7084-4e24-ff80-643908f5c8d1"
      },
      "execution_count": 24,
      "outputs": [
        {
          "output_type": "stream",
          "name": "stdout",
          "text": [
            "Epoch 1/10\n",
            "11170/11171 [============================>.] - ETA: 0s - loss: 17.3094 - root_mean_squared_error: 4.1605"
          ]
        },
        {
          "output_type": "stream",
          "name": "stderr",
          "text": [
            "WARNING:absl:Found untraced functions such as gru_cell_layer_call_fn, gru_cell_layer_call_and_return_conditional_losses while saving (showing 2 of 2). These functions will not be directly callable after loading.\n"
          ]
        },
        {
          "output_type": "stream",
          "name": "stdout",
          "text": [
            "INFO:tensorflow:Assets written to: model3/assets\n"
          ]
        },
        {
          "output_type": "stream",
          "name": "stderr",
          "text": [
            "INFO:tensorflow:Assets written to: model3/assets\n",
            "WARNING:absl:<keras.layers.recurrent.GRUCell object at 0x7f08c1153390> has the same name 'GRUCell' as a built-in Keras object. Consider renaming <class 'keras.layers.recurrent.GRUCell'> to avoid naming conflicts when loading with `tf.keras.models.load_model`. If renaming is not possible, pass the object in the `custom_objects` parameter of the load function.\n"
          ]
        },
        {
          "output_type": "stream",
          "name": "stdout",
          "text": [
            "\b\b\b\b\b\b\b\b\b\b\b\b\b\b\b\b\b\b\b\b\b\b\b\b\b\b\b\b\b\b\b\b\b\b\b\b\b\b\b\b\b\b\b\b\b\b\b\b\b\b\b\b\b\b\b\b\b\b\b\b\b\b\b\b\b\b\b\b\b\b\b\b\b\b\b\b\b\b\b\b\b\b\b\b\b\b\b\b\b\b\b\b\b\b\b\b\b\b\b\b\b\b\b\b\r11171/11171 [==============================] - 54s 5ms/step - loss: 17.3082 - root_mean_squared_error: 4.1603 - val_loss: 0.0303 - val_root_mean_squared_error: 0.1740\n",
            "Epoch 2/10\n",
            "11161/11171 [============================>.] - ETA: 0s - loss: 0.0486 - root_mean_squared_error: 0.2204"
          ]
        },
        {
          "output_type": "stream",
          "name": "stderr",
          "text": [
            "WARNING:absl:Found untraced functions such as gru_cell_layer_call_fn, gru_cell_layer_call_and_return_conditional_losses while saving (showing 2 of 2). These functions will not be directly callable after loading.\n"
          ]
        },
        {
          "output_type": "stream",
          "name": "stdout",
          "text": [
            "INFO:tensorflow:Assets written to: model3/assets\n"
          ]
        },
        {
          "output_type": "stream",
          "name": "stderr",
          "text": [
            "INFO:tensorflow:Assets written to: model3/assets\n",
            "WARNING:absl:<keras.layers.recurrent.GRUCell object at 0x7f08c1153390> has the same name 'GRUCell' as a built-in Keras object. Consider renaming <class 'keras.layers.recurrent.GRUCell'> to avoid naming conflicts when loading with `tf.keras.models.load_model`. If renaming is not possible, pass the object in the `custom_objects` parameter of the load function.\n"
          ]
        },
        {
          "output_type": "stream",
          "name": "stdout",
          "text": [
            "\b\b\b\b\b\b\b\b\b\b\b\b\b\b\b\b\b\b\b\b\b\b\b\b\b\b\b\b\b\b\b\b\b\b\b\b\b\b\b\b\b\b\b\b\b\b\b\b\b\b\b\b\b\b\b\b\b\b\b\b\b\b\b\b\b\b\b\b\b\b\b\b\b\b\b\b\b\b\b\b\b\b\b\b\b\b\b\b\b\b\b\b\b\b\b\b\b\b\b\b\b\b\b\r11171/11171 [==============================] - 51s 5ms/step - loss: 0.0486 - root_mean_squared_error: 0.2204 - val_loss: 0.0278 - val_root_mean_squared_error: 0.1668\n",
            "Epoch 3/10\n",
            "11171/11171 [==============================] - 53s 5ms/step - loss: 0.0457 - root_mean_squared_error: 0.2137 - val_loss: 0.0298 - val_root_mean_squared_error: 0.1727\n",
            "Epoch 4/10\n",
            "11171/11171 [==============================] - ETA: 0s - loss: 0.0450 - root_mean_squared_error: 0.2122"
          ]
        },
        {
          "output_type": "stream",
          "name": "stderr",
          "text": [
            "WARNING:absl:Found untraced functions such as gru_cell_layer_call_fn, gru_cell_layer_call_and_return_conditional_losses while saving (showing 2 of 2). These functions will not be directly callable after loading.\n"
          ]
        },
        {
          "output_type": "stream",
          "name": "stdout",
          "text": [
            "INFO:tensorflow:Assets written to: model3/assets\n"
          ]
        },
        {
          "output_type": "stream",
          "name": "stderr",
          "text": [
            "INFO:tensorflow:Assets written to: model3/assets\n",
            "WARNING:absl:<keras.layers.recurrent.GRUCell object at 0x7f08c1153390> has the same name 'GRUCell' as a built-in Keras object. Consider renaming <class 'keras.layers.recurrent.GRUCell'> to avoid naming conflicts when loading with `tf.keras.models.load_model`. If renaming is not possible, pass the object in the `custom_objects` parameter of the load function.\n"
          ]
        },
        {
          "output_type": "stream",
          "name": "stdout",
          "text": [
            "\b\b\b\b\b\b\b\b\b\b\b\b\b\b\b\b\b\b\b\b\b\b\b\b\b\b\b\b\b\b\b\b\b\b\b\b\b\b\b\b\b\b\b\b\b\b\b\b\b\b\b\b\b\b\b\b\b\b\b\b\b\b\b\b\b\b\b\b\b\b\b\b\b\b\b\b\b\b\b\b\b\b\b\b\b\b\b\b\b\b\b\b\b\b\b\b\b\b\b\b\b\b\b\r11171/11171 [==============================] - 51s 5ms/step - loss: 0.0450 - root_mean_squared_error: 0.2122 - val_loss: 0.0270 - val_root_mean_squared_error: 0.1643\n",
            "Epoch 5/10\n",
            "11163/11171 [============================>.] - ETA: 0s - loss: 0.0447 - root_mean_squared_error: 0.2113"
          ]
        },
        {
          "output_type": "stream",
          "name": "stderr",
          "text": [
            "WARNING:absl:Found untraced functions such as gru_cell_layer_call_fn, gru_cell_layer_call_and_return_conditional_losses while saving (showing 2 of 2). These functions will not be directly callable after loading.\n"
          ]
        },
        {
          "output_type": "stream",
          "name": "stdout",
          "text": [
            "INFO:tensorflow:Assets written to: model3/assets\n"
          ]
        },
        {
          "output_type": "stream",
          "name": "stderr",
          "text": [
            "INFO:tensorflow:Assets written to: model3/assets\n",
            "WARNING:absl:<keras.layers.recurrent.GRUCell object at 0x7f08c1153390> has the same name 'GRUCell' as a built-in Keras object. Consider renaming <class 'keras.layers.recurrent.GRUCell'> to avoid naming conflicts when loading with `tf.keras.models.load_model`. If renaming is not possible, pass the object in the `custom_objects` parameter of the load function.\n"
          ]
        },
        {
          "output_type": "stream",
          "name": "stdout",
          "text": [
            "\b\b\b\b\b\b\b\b\b\b\b\b\b\b\b\b\b\b\b\b\b\b\b\b\b\b\b\b\b\b\b\b\b\b\b\b\b\b\b\b\b\b\b\b\b\b\b\b\b\b\b\b\b\b\b\b\b\b\b\b\b\b\b\b\b\b\b\b\b\b\b\b\b\b\b\b\b\b\b\b\b\b\b\b\b\b\b\b\b\b\b\b\b\b\b\b\b\b\b\b\b\b\b\r11171/11171 [==============================] - 51s 5ms/step - loss: 0.0447 - root_mean_squared_error: 0.2113 - val_loss: 0.0269 - val_root_mean_squared_error: 0.1641\n",
            "Epoch 6/10\n",
            "11171/11171 [==============================] - 50s 4ms/step - loss: 0.0444 - root_mean_squared_error: 0.2108 - val_loss: 0.0272 - val_root_mean_squared_error: 0.1650\n",
            "Epoch 7/10\n",
            "11163/11171 [============================>.] - ETA: 0s - loss: 0.0444 - root_mean_squared_error: 0.2107"
          ]
        },
        {
          "output_type": "stream",
          "name": "stderr",
          "text": [
            "WARNING:absl:Found untraced functions such as gru_cell_layer_call_fn, gru_cell_layer_call_and_return_conditional_losses while saving (showing 2 of 2). These functions will not be directly callable after loading.\n"
          ]
        },
        {
          "output_type": "stream",
          "name": "stdout",
          "text": [
            "INFO:tensorflow:Assets written to: model3/assets\n"
          ]
        },
        {
          "output_type": "stream",
          "name": "stderr",
          "text": [
            "INFO:tensorflow:Assets written to: model3/assets\n",
            "WARNING:absl:<keras.layers.recurrent.GRUCell object at 0x7f08c1153390> has the same name 'GRUCell' as a built-in Keras object. Consider renaming <class 'keras.layers.recurrent.GRUCell'> to avoid naming conflicts when loading with `tf.keras.models.load_model`. If renaming is not possible, pass the object in the `custom_objects` parameter of the load function.\n"
          ]
        },
        {
          "output_type": "stream",
          "name": "stdout",
          "text": [
            "\b\b\b\b\b\b\b\b\b\b\b\b\b\b\b\b\b\b\b\b\b\b\b\b\b\b\b\b\b\b\b\b\b\b\b\b\b\b\b\b\b\b\b\b\b\b\b\b\b\b\b\b\b\b\b\b\b\b\b\b\b\b\b\b\b\b\b\b\b\b\b\b\b\b\b\b\b\b\b\b\b\b\b\b\b\b\b\b\b\b\b\b\b\b\b\b\b\b\b\b\b\b\b\r11171/11171 [==============================] - 53s 5ms/step - loss: 0.0444 - root_mean_squared_error: 0.2107 - val_loss: 0.0268 - val_root_mean_squared_error: 0.1637\n",
            "Epoch 8/10\n",
            "11171/11171 [==============================] - 49s 4ms/step - loss: 0.0442 - root_mean_squared_error: 0.2103 - val_loss: 0.0270 - val_root_mean_squared_error: 0.1643\n",
            "Epoch 9/10\n",
            "11162/11171 [============================>.] - ETA: 0s - loss: 0.0441 - root_mean_squared_error: 0.2100"
          ]
        },
        {
          "output_type": "stream",
          "name": "stderr",
          "text": [
            "WARNING:absl:Found untraced functions such as gru_cell_layer_call_fn, gru_cell_layer_call_and_return_conditional_losses while saving (showing 2 of 2). These functions will not be directly callable after loading.\n"
          ]
        },
        {
          "output_type": "stream",
          "name": "stdout",
          "text": [
            "INFO:tensorflow:Assets written to: model3/assets\n"
          ]
        },
        {
          "output_type": "stream",
          "name": "stderr",
          "text": [
            "INFO:tensorflow:Assets written to: model3/assets\n",
            "WARNING:absl:<keras.layers.recurrent.GRUCell object at 0x7f08c1153390> has the same name 'GRUCell' as a built-in Keras object. Consider renaming <class 'keras.layers.recurrent.GRUCell'> to avoid naming conflicts when loading with `tf.keras.models.load_model`. If renaming is not possible, pass the object in the `custom_objects` parameter of the load function.\n"
          ]
        },
        {
          "output_type": "stream",
          "name": "stdout",
          "text": [
            "\b\b\b\b\b\b\b\b\b\b\b\b\b\b\b\b\b\b\b\b\b\b\b\b\b\b\b\b\b\b\b\b\b\b\b\b\b\b\b\b\b\b\b\b\b\b\b\b\b\b\b\b\b\b\b\b\b\b\b\b\b\b\b\b\b\b\b\b\b\b\b\b\b\b\b\b\b\b\b\b\b\b\b\b\b\b\b\b\b\b\b\b\b\b\b\b\b\b\b\b\b\b\b\r11171/11171 [==============================] - 53s 5ms/step - loss: 0.0441 - root_mean_squared_error: 0.2099 - val_loss: 0.0267 - val_root_mean_squared_error: 0.1635\n",
            "Epoch 10/10\n",
            "11171/11171 [==============================] - 49s 4ms/step - loss: 0.0440 - root_mean_squared_error: 0.2097 - val_loss: 0.0272 - val_root_mean_squared_error: 0.1650\n"
          ]
        },
        {
          "output_type": "execute_result",
          "data": {
            "text/plain": [
              "<keras.callbacks.History at 0x7f08c0e7d590>"
            ]
          },
          "metadata": {},
          "execution_count": 24
        }
      ]
    },
    {
      "cell_type": "code",
      "source": [
        "model3 = load_model('model3/')"
      ],
      "metadata": {
        "id": "CWPN-I1oEErD"
      },
      "execution_count": null,
      "outputs": []
    },
    {
      "cell_type": "markdown",
      "source": [
        "#Now transforming to multivariate time series analysis using the defined models"
      ],
      "metadata": {
        "id": "iPlozEZlG28N"
      }
    },
    {
      "cell_type": "markdown",
      "source": [
        "## Defining the seconds parameter for recording the temperature. Taking Temperature first as a data series and using it in order to view insights"
      ],
      "metadata": {
        "id": "8GrH60STHB9W"
      }
    },
    {
      "cell_type": "code",
      "source": [
        "temp_df = pd.DataFrame({'Temperature':temp})\n",
        "temp_df['Seconds'] = temp_df.index.map(pd.Timestamp.timestamp)"
      ],
      "metadata": {
        "id": "63smthPqHB0_"
      },
      "execution_count": 37,
      "outputs": []
    },
    {
      "cell_type": "code",
      "source": [
        "temp_df.head()"
      ],
      "metadata": {
        "colab": {
          "base_uri": "https://localhost:8080/",
          "height": 238
        },
        "id": "oEv15kKpJjwS",
        "outputId": "ab607572-a70e-4b00-8bd0-ebda1d27c726"
      },
      "execution_count": 44,
      "outputs": [
        {
          "output_type": "execute_result",
          "data": {
            "text/plain": [
              "                     Temperature   Day sin   Day cos  Year sin  Year cos\n",
              "Date Time                                                               \n",
              "2009-01-01 00:10:00        -8.02  0.043619  0.999048  0.009452  0.999955\n",
              "2009-01-01 00:20:00        -8.41  0.087156  0.996195  0.009571  0.999954\n",
              "2009-01-01 00:30:00        -8.51  0.130526  0.991445  0.009691  0.999953\n",
              "2009-01-01 00:40:00        -8.31  0.173648  0.984808  0.009810  0.999952\n",
              "2009-01-01 00:50:00        -8.27  0.216440  0.976296  0.009930  0.999951"
            ],
            "text/html": [
              "\n",
              "  <div id=\"df-7740a873-5ddc-4781-b5c5-b2c657f74923\">\n",
              "    <div class=\"colab-df-container\">\n",
              "      <div>\n",
              "<style scoped>\n",
              "    .dataframe tbody tr th:only-of-type {\n",
              "        vertical-align: middle;\n",
              "    }\n",
              "\n",
              "    .dataframe tbody tr th {\n",
              "        vertical-align: top;\n",
              "    }\n",
              "\n",
              "    .dataframe thead th {\n",
              "        text-align: right;\n",
              "    }\n",
              "</style>\n",
              "<table border=\"1\" class=\"dataframe\">\n",
              "  <thead>\n",
              "    <tr style=\"text-align: right;\">\n",
              "      <th></th>\n",
              "      <th>Temperature</th>\n",
              "      <th>Day sin</th>\n",
              "      <th>Day cos</th>\n",
              "      <th>Year sin</th>\n",
              "      <th>Year cos</th>\n",
              "    </tr>\n",
              "    <tr>\n",
              "      <th>Date Time</th>\n",
              "      <th></th>\n",
              "      <th></th>\n",
              "      <th></th>\n",
              "      <th></th>\n",
              "      <th></th>\n",
              "    </tr>\n",
              "  </thead>\n",
              "  <tbody>\n",
              "    <tr>\n",
              "      <th>2009-01-01 00:10:00</th>\n",
              "      <td>-8.02</td>\n",
              "      <td>0.043619</td>\n",
              "      <td>0.999048</td>\n",
              "      <td>0.009452</td>\n",
              "      <td>0.999955</td>\n",
              "    </tr>\n",
              "    <tr>\n",
              "      <th>2009-01-01 00:20:00</th>\n",
              "      <td>-8.41</td>\n",
              "      <td>0.087156</td>\n",
              "      <td>0.996195</td>\n",
              "      <td>0.009571</td>\n",
              "      <td>0.999954</td>\n",
              "    </tr>\n",
              "    <tr>\n",
              "      <th>2009-01-01 00:30:00</th>\n",
              "      <td>-8.51</td>\n",
              "      <td>0.130526</td>\n",
              "      <td>0.991445</td>\n",
              "      <td>0.009691</td>\n",
              "      <td>0.999953</td>\n",
              "    </tr>\n",
              "    <tr>\n",
              "      <th>2009-01-01 00:40:00</th>\n",
              "      <td>-8.31</td>\n",
              "      <td>0.173648</td>\n",
              "      <td>0.984808</td>\n",
              "      <td>0.009810</td>\n",
              "      <td>0.999952</td>\n",
              "    </tr>\n",
              "    <tr>\n",
              "      <th>2009-01-01 00:50:00</th>\n",
              "      <td>-8.27</td>\n",
              "      <td>0.216440</td>\n",
              "      <td>0.976296</td>\n",
              "      <td>0.009930</td>\n",
              "      <td>0.999951</td>\n",
              "    </tr>\n",
              "  </tbody>\n",
              "</table>\n",
              "</div>\n",
              "      <button class=\"colab-df-convert\" onclick=\"convertToInteractive('df-7740a873-5ddc-4781-b5c5-b2c657f74923')\"\n",
              "              title=\"Convert this dataframe to an interactive table.\"\n",
              "              style=\"display:none;\">\n",
              "        \n",
              "  <svg xmlns=\"http://www.w3.org/2000/svg\" height=\"24px\"viewBox=\"0 0 24 24\"\n",
              "       width=\"24px\">\n",
              "    <path d=\"M0 0h24v24H0V0z\" fill=\"none\"/>\n",
              "    <path d=\"M18.56 5.44l.94 2.06.94-2.06 2.06-.94-2.06-.94-.94-2.06-.94 2.06-2.06.94zm-11 1L8.5 8.5l.94-2.06 2.06-.94-2.06-.94L8.5 2.5l-.94 2.06-2.06.94zm10 10l.94 2.06.94-2.06 2.06-.94-2.06-.94-.94-2.06-.94 2.06-2.06.94z\"/><path d=\"M17.41 7.96l-1.37-1.37c-.4-.4-.92-.59-1.43-.59-.52 0-1.04.2-1.43.59L10.3 9.45l-7.72 7.72c-.78.78-.78 2.05 0 2.83L4 21.41c.39.39.9.59 1.41.59.51 0 1.02-.2 1.41-.59l7.78-7.78 2.81-2.81c.8-.78.8-2.07 0-2.86zM5.41 20L4 18.59l7.72-7.72 1.47 1.35L5.41 20z\"/>\n",
              "  </svg>\n",
              "      </button>\n",
              "      \n",
              "  <style>\n",
              "    .colab-df-container {\n",
              "      display:flex;\n",
              "      flex-wrap:wrap;\n",
              "      gap: 12px;\n",
              "    }\n",
              "\n",
              "    .colab-df-convert {\n",
              "      background-color: #E8F0FE;\n",
              "      border: none;\n",
              "      border-radius: 50%;\n",
              "      cursor: pointer;\n",
              "      display: none;\n",
              "      fill: #1967D2;\n",
              "      height: 32px;\n",
              "      padding: 0 0 0 0;\n",
              "      width: 32px;\n",
              "    }\n",
              "\n",
              "    .colab-df-convert:hover {\n",
              "      background-color: #E2EBFA;\n",
              "      box-shadow: 0px 1px 2px rgba(60, 64, 67, 0.3), 0px 1px 3px 1px rgba(60, 64, 67, 0.15);\n",
              "      fill: #174EA6;\n",
              "    }\n",
              "\n",
              "    [theme=dark] .colab-df-convert {\n",
              "      background-color: #3B4455;\n",
              "      fill: #D2E3FC;\n",
              "    }\n",
              "\n",
              "    [theme=dark] .colab-df-convert:hover {\n",
              "      background-color: #434B5C;\n",
              "      box-shadow: 0px 1px 3px 1px rgba(0, 0, 0, 0.15);\n",
              "      filter: drop-shadow(0px 1px 2px rgba(0, 0, 0, 0.3));\n",
              "      fill: #FFFFFF;\n",
              "    }\n",
              "  </style>\n",
              "\n",
              "      <script>\n",
              "        const buttonEl =\n",
              "          document.querySelector('#df-7740a873-5ddc-4781-b5c5-b2c657f74923 button.colab-df-convert');\n",
              "        buttonEl.style.display =\n",
              "          google.colab.kernel.accessAllowed ? 'block' : 'none';\n",
              "\n",
              "        async function convertToInteractive(key) {\n",
              "          const element = document.querySelector('#df-7740a873-5ddc-4781-b5c5-b2c657f74923');\n",
              "          const dataTable =\n",
              "            await google.colab.kernel.invokeFunction('convertToInteractive',\n",
              "                                                     [key], {});\n",
              "          if (!dataTable) return;\n",
              "\n",
              "          const docLinkHtml = 'Like what you see? Visit the ' +\n",
              "            '<a target=\"_blank\" href=https://colab.research.google.com/notebooks/data_table.ipynb>data table notebook</a>'\n",
              "            + ' to learn more about interactive tables.';\n",
              "          element.innerHTML = '';\n",
              "          dataTable['output_type'] = 'display_data';\n",
              "          await google.colab.output.renderOutput(dataTable, element);\n",
              "          const docLink = document.createElement('div');\n",
              "          docLink.innerHTML = docLinkHtml;\n",
              "          element.appendChild(docLink);\n",
              "        }\n",
              "      </script>\n",
              "    </div>\n",
              "  </div>\n",
              "  "
            ]
          },
          "metadata": {},
          "execution_count": 44
        }
      ]
    },
    {
      "cell_type": "markdown",
      "source": [
        "## Using day and year parameters from the index in order to create day sin, day cos as well as year sin and year cos. \n",
        "Converting the seconds to periodic using sin and cos.\n",
        "day sin = sin(2*pi*seconds/total_number_seconds_day)"
      ],
      "metadata": {
        "id": "TFicJhyFIti-"
      }
    },
    {
      "cell_type": "code",
      "source": [
        "#Number of seconds in a day and in a year\n",
        "day = 60*60*24\n",
        "year = 365.2425*day\n",
        "#Day sin and day cos\n",
        "temp_df['Day sin'] = np.sin(temp_df['Seconds']*(2*np.pi/day))\n",
        "temp_df['Day cos'] = np.cos(temp_df['Seconds']*(2*np.pi/day))\n",
        "#Year sin and year cos\n",
        "temp_df['Year sin'] = np.sin(temp_df['Seconds']*(2*np.pi/year))\n",
        "temp_df['Year cos'] = np.cos(temp_df['Seconds']*(2*np.pi/year))\n"
      ],
      "metadata": {
        "id": "cJ1CUKfBG_kb"
      },
      "execution_count": 40,
      "outputs": []
    },
    {
      "cell_type": "code",
      "source": [
        "temp_df = temp_df.drop('Seconds',axis = 1)"
      ],
      "metadata": {
        "id": "fdFH6HaZJpMC"
      },
      "execution_count": 43,
      "outputs": []
    },
    {
      "cell_type": "code",
      "source": [
        "temp_df.plot()"
      ],
      "metadata": {
        "colab": {
          "base_uri": "https://localhost:8080/",
          "height": 289
        },
        "id": "Pk4jbJd3J39A",
        "outputId": "68b2b476-43d0-4557-9b27-e53d417ed8ea"
      },
      "execution_count": 45,
      "outputs": [
        {
          "output_type": "execute_result",
          "data": {
            "text/plain": [
              "<matplotlib.axes._subplots.AxesSubplot at 0x7f08c08a9f10>"
            ]
          },
          "metadata": {},
          "execution_count": 45
        },
        {
          "output_type": "display_data",
          "data": {
            "text/plain": [
              "<Figure size 432x288 with 1 Axes>"
            ],
            "image/png": "[encoded data removed]"
          },
          "metadata": {
            "needs_background": "light"
          }
        }
      ]
    },
    {
      "cell_type": "markdown",
      "source": [
        "##Modifying the data frame creation function in order to incorporate multiple values using the sin cos functions as compared to a single one previously."
      ],
      "metadata": {
        "id": "cJd8zKmZUraw"
      }
    },
    {
      "cell_type": "code",
      "source": [
        "#Look at the last 4 values in order to set them as the target variable\n",
        "#New methodology\n",
        "# x = [[[t1,ds1,dc1,ys1,yc1],[t2,ds2,dc2,ys2,yc2]],[t3,ds3,dc3,ys3,yc3],[t4,ds4,dc4,ys4,yc4],[t5,ds5,dc5,ys5,yc5]]] y= [t6]\n",
        "\n",
        "def df_to_X_y_multi(df,window_size = 5):\n",
        "  df_as_np = df.to_numpy()\n",
        "  X = []\n",
        "  y = []\n",
        "  for i in range(len(df_as_np)-window_size):\n",
        "    row = [r for r in df_as_np[i:i+window_size]]\n",
        "    X.append(row)\n",
        "    label = df_as_np[i+window_size][0]\n",
        "    y.append(label)\n",
        "  return np.array(X),np.array(y)"
      ],
      "metadata": {
        "id": "sXAPUkW8KeTh"
      },
      "execution_count": 52,
      "outputs": []
    },
    {
      "cell_type": "code",
      "source": [
        "X2,y2 = df_to_X_y_multi(temp_df)\n",
        "X2.shape,y.shape"
      ],
      "metadata": {
        "colab": {
          "base_uri": "https://localhost:8080/"
        },
        "id": "8WRxG6ABMIWN",
        "outputId": "dcaf886f-ff31-4fb3-a58d-d22408b825a3"
      },
      "execution_count": 53,
      "outputs": [
        {
          "output_type": "execute_result",
          "data": {
            "text/plain": [
              "((420546, 5, 5), (420546,))"
            ]
          },
          "metadata": {},
          "execution_count": 53
        }
      ]
    },
    {
      "cell_type": "markdown",
      "source": [
        "##Splitting data into test and train"
      ],
      "metadata": {
        "id": "ktcEAzx-NRhe"
      }
    },
    {
      "cell_type": "code",
      "source": [
        "X2_train,y2_train = X2[:357464], y2[:357464]\n",
        "X2_val,y2_val = X2[357464:378490], y2[357464:378490]\n",
        "X2_test,y2_test = X2[378490:], y2[378490:]"
      ],
      "metadata": {
        "id": "s0JmBB9xNRLD"
      },
      "execution_count": 54,
      "outputs": []
    },
    {
      "cell_type": "markdown",
      "source": [
        "##Standardising the temperature"
      ],
      "metadata": {
        "id": "NBOCVxzdOAZ3"
      }
    },
    {
      "cell_type": "code",
      "source": [
        "temp_train_mean = np.mean(X2_train[:,:,0])\n",
        "temp_train_sd = np.std(X2_train[:,:,0])\n",
        "\n",
        "def preprocess(X):\n",
        "  X[:,:,0] = (X[:,:,0]-temp_train_mean)/temp_train_sd\n",
        "  return X\n",
        "\n"
      ],
      "metadata": {
        "id": "m652YnWrMeGD"
      },
      "execution_count": 55,
      "outputs": []
    },
    {
      "cell_type": "code",
      "source": [
        "preprocess(X2_train)\n",
        "preprocess(X2_test)\n",
        "preprocess(X2_val)"
      ],
      "metadata": {
        "id": "ROMLIwRqOwne"
      },
      "execution_count": null,
      "outputs": []
    },
    {
      "cell_type": "markdown",
      "source": [
        "##Defining and training the models for multivariate analysis"
      ],
      "metadata": {
        "id": "SItEPxeNPAVE"
      }
    },
    {
      "cell_type": "markdown",
      "source": [
        "###1. Using LSTM"
      ],
      "metadata": {
        "id": "h0iuGkEqPM6z"
      }
    },
    {
      "cell_type": "markdown",
      "source": [
        "####Defining the model"
      ],
      "metadata": {
        "id": "zweYqI88PuLo"
      }
    },
    {
      "cell_type": "code",
      "source": [
        "model4 = Sequential()\n",
        "model4.add(InputLayer((5,5)))\n",
        "model4.add(LSTM(64))\n",
        "model4.add(Dense(8,'relu'))\n",
        "model4.add(Dense(1,'linear'))\n",
        "\n",
        "model4.summary()"
      ],
      "metadata": {
        "colab": {
          "base_uri": "https://localhost:8080/"
        },
        "id": "la0s5JswPDRW",
        "outputId": "9b3f898a-8c2e-457b-9283-d4f175877eb6"
      },
      "execution_count": 57,
      "outputs": [
        {
          "output_type": "stream",
          "name": "stdout",
          "text": [
            "Model: \"sequential_3\"\n",
            "_________________________________________________________________\n",
            " Layer (type)                Output Shape              Param #   \n",
            "=================================================================\n",
            " lstm_1 (LSTM)               (None, 64)                17920     \n",
            "                                                                 \n",
            " dense_6 (Dense)             (None, 8)                 520       \n",
            "                                                                 \n",
            " dense_7 (Dense)             (None, 1)                 9         \n",
            "                                                                 \n",
            "=================================================================\n",
            "Total params: 18,449\n",
            "Trainable params: 18,449\n",
            "Non-trainable params: 0\n",
            "_________________________________________________________________\n"
          ]
        }
      ]
    },
    {
      "cell_type": "markdown",
      "source": [
        "####Checkpointing and training the data\n"
      ],
      "metadata": {
        "id": "bdbSBsWnPqzl"
      }
    },
    {
      "cell_type": "code",
      "source": [
        "#Defining the checkpoints\n",
        "cp4 = ModelCheckpoint('model4/',save_best_only=True)\n",
        "model4.compile(loss=MeanSquaredError(),optimizer=Adam(learning_rate = 1e-4),metrics = [RootMeanSquaredError()])\n",
        "\n",
        "#Training the data\n",
        "model4.fit(X2_train,y2_train,validation_data = (X2_val,y2_val),epochs = 10,callbacks=[cp4])"
      ],
      "metadata": {
        "colab": {
          "base_uri": "https://localhost:8080/"
        },
        "id": "jXprAF_0Pj-Y",
        "outputId": "3b79fd12-90eb-4ebc-b93d-d88edee7f2e7"
      },
      "execution_count": 58,
      "outputs": [
        {
          "output_type": "stream",
          "name": "stdout",
          "text": [
            "Epoch 1/10\n",
            "11166/11171 [============================>.] - ETA: 0s - loss: 6.5646 - root_mean_squared_error: 2.5622"
          ]
        },
        {
          "output_type": "stream",
          "name": "stderr",
          "text": [
            "WARNING:absl:Found untraced functions such as lstm_cell_1_layer_call_fn, lstm_cell_1_layer_call_and_return_conditional_losses while saving (showing 2 of 2). These functions will not be directly callable after loading.\n"
          ]
        },
        {
          "output_type": "stream",
          "name": "stdout",
          "text": [
            "INFO:tensorflow:Assets written to: model4/assets\n"
          ]
        },
        {
          "output_type": "stream",
          "name": "stderr",
          "text": [
            "INFO:tensorflow:Assets written to: model4/assets\n",
            "WARNING:absl:<keras.layers.recurrent.LSTMCell object at 0x7f094cfec750> has the same name 'LSTMCell' as a built-in Keras object. Consider renaming <class 'keras.layers.recurrent.LSTMCell'> to avoid naming conflicts when loading with `tf.keras.models.load_model`. If renaming is not possible, pass the object in the `custom_objects` parameter of the load function.\n"
          ]
        },
        {
          "output_type": "stream",
          "name": "stdout",
          "text": [
            "\b\b\b\b\b\b\b\b\b\b\b\b\b\b\b\b\b\b\b\b\b\b\b\b\b\b\b\b\b\b\b\b\b\b\b\b\b\b\b\b\b\b\b\b\b\b\b\b\b\b\b\b\b\b\b\b\b\b\b\b\b\b\b\b\b\b\b\b\b\b\b\b\b\b\b\b\b\b\b\b\b\b\b\b\b\b\b\b\b\b\b\b\b\b\b\b\b\b\b\b\b\b\b\r11171/11171 [==============================] - 53s 5ms/step - loss: 6.5619 - root_mean_squared_error: 2.5616 - val_loss: 0.1030 - val_root_mean_squared_error: 0.3209\n",
            "Epoch 2/10\n",
            "11170/11171 [============================>.] - ETA: 0s - loss: 0.0957 - root_mean_squared_error: 0.3093"
          ]
        },
        {
          "output_type": "stream",
          "name": "stderr",
          "text": [
            "WARNING:absl:Found untraced functions such as lstm_cell_1_layer_call_fn, lstm_cell_1_layer_call_and_return_conditional_losses while saving (showing 2 of 2). These functions will not be directly callable after loading.\n"
          ]
        },
        {
          "output_type": "stream",
          "name": "stdout",
          "text": [
            "INFO:tensorflow:Assets written to: model4/assets\n"
          ]
        },
        {
          "output_type": "stream",
          "name": "stderr",
          "text": [
            "INFO:tensorflow:Assets written to: model4/assets\n",
            "WARNING:absl:<keras.layers.recurrent.LSTMCell object at 0x7f094cfec750> has the same name 'LSTMCell' as a built-in Keras object. Consider renaming <class 'keras.layers.recurrent.LSTMCell'> to avoid naming conflicts when loading with `tf.keras.models.load_model`. If renaming is not possible, pass the object in the `custom_objects` parameter of the load function.\n"
          ]
        },
        {
          "output_type": "stream",
          "name": "stdout",
          "text": [
            "\b\b\b\b\b\b\b\b\b\b\b\b\b\b\b\b\b\b\b\b\b\b\b\b\b\b\b\b\b\b\b\b\b\b\b\b\b\b\b\b\b\b\b\b\b\b\b\b\b\b\b\b\b\b\b\b\b\b\b\b\b\b\b\b\b\b\b\b\b\b\b\b\b\b\b\b\b\b\b\b\b\b\b\b\b\b\b\b\b\b\b\b\b\b\b\b\b\b\b\b\b\b\b\r11171/11171 [==============================] - 51s 5ms/step - loss: 0.0957 - root_mean_squared_error: 0.3093 - val_loss: 0.0481 - val_root_mean_squared_error: 0.2194\n",
            "Epoch 3/10\n",
            "11169/11171 [============================>.] - ETA: 0s - loss: 0.0625 - root_mean_squared_error: 0.2501"
          ]
        },
        {
          "output_type": "stream",
          "name": "stderr",
          "text": [
            "WARNING:absl:Found untraced functions such as lstm_cell_1_layer_call_fn, lstm_cell_1_layer_call_and_return_conditional_losses while saving (showing 2 of 2). These functions will not be directly callable after loading.\n"
          ]
        },
        {
          "output_type": "stream",
          "name": "stdout",
          "text": [
            "INFO:tensorflow:Assets written to: model4/assets\n"
          ]
        },
        {
          "output_type": "stream",
          "name": "stderr",
          "text": [
            "INFO:tensorflow:Assets written to: model4/assets\n",
            "WARNING:absl:<keras.layers.recurrent.LSTMCell object at 0x7f094cfec750> has the same name 'LSTMCell' as a built-in Keras object. Consider renaming <class 'keras.layers.recurrent.LSTMCell'> to avoid naming conflicts when loading with `tf.keras.models.load_model`. If renaming is not possible, pass the object in the `custom_objects` parameter of the load function.\n"
          ]
        },
        {
          "output_type": "stream",
          "name": "stdout",
          "text": [
            "\b\b\b\b\b\b\b\b\b\b\b\b\b\b\b\b\b\b\b\b\b\b\b\b\b\b\b\b\b\b\b\b\b\b\b\b\b\b\b\b\b\b\b\b\b\b\b\b\b\b\b\b\b\b\b\b\b\b\b\b\b\b\b\b\b\b\b\b\b\b\b\b\b\b\b\b\b\b\b\b\b\b\b\b\b\b\b\b\b\b\b\b\b\b\b\b\b\b\b\b\b\b\b\r11171/11171 [==============================] - 52s 5ms/step - loss: 0.0625 - root_mean_squared_error: 0.2501 - val_loss: 0.0354 - val_root_mean_squared_error: 0.1882\n",
            "Epoch 4/10\n",
            "11167/11171 [============================>.] - ETA: 0s - loss: 0.0505 - root_mean_squared_error: 0.2246"
          ]
        },
        {
          "output_type": "stream",
          "name": "stderr",
          "text": [
            "WARNING:absl:Found untraced functions such as lstm_cell_1_layer_call_fn, lstm_cell_1_layer_call_and_return_conditional_losses while saving (showing 2 of 2). These functions will not be directly callable after loading.\n"
          ]
        },
        {
          "output_type": "stream",
          "name": "stdout",
          "text": [
            "INFO:tensorflow:Assets written to: model4/assets\n"
          ]
        },
        {
          "output_type": "stream",
          "name": "stderr",
          "text": [
            "INFO:tensorflow:Assets written to: model4/assets\n",
            "WARNING:absl:<keras.layers.recurrent.LSTMCell object at 0x7f094cfec750> has the same name 'LSTMCell' as a built-in Keras object. Consider renaming <class 'keras.layers.recurrent.LSTMCell'> to avoid naming conflicts when loading with `tf.keras.models.load_model`. If renaming is not possible, pass the object in the `custom_objects` parameter of the load function.\n"
          ]
        },
        {
          "output_type": "stream",
          "name": "stdout",
          "text": [
            "\b\b\b\b\b\b\b\b\b\b\b\b\b\b\b\b\b\b\b\b\b\b\b\b\b\b\b\b\b\b\b\b\b\b\b\b\b\b\b\b\b\b\b\b\b\b\b\b\b\b\b\b\b\b\b\b\b\b\b\b\b\b\b\b\b\b\b\b\b\b\b\b\b\b\b\b\b\b\b\b\b\b\b\b\b\b\b\b\b\b\b\b\b\b\b\b\b\b\b\b\b\b\b\r11171/11171 [==============================] - 55s 5ms/step - loss: 0.0505 - root_mean_squared_error: 0.2246 - val_loss: 0.0303 - val_root_mean_squared_error: 0.1740\n",
            "Epoch 5/10\n",
            "11171/11171 [==============================] - ETA: 0s - loss: 0.0461 - root_mean_squared_error: 0.2146"
          ]
        },
        {
          "output_type": "stream",
          "name": "stderr",
          "text": [
            "WARNING:absl:Found untraced functions such as lstm_cell_1_layer_call_fn, lstm_cell_1_layer_call_and_return_conditional_losses while saving (showing 2 of 2). These functions will not be directly callable after loading.\n"
          ]
        },
        {
          "output_type": "stream",
          "name": "stdout",
          "text": [
            "INFO:tensorflow:Assets written to: model4/assets\n"
          ]
        },
        {
          "output_type": "stream",
          "name": "stderr",
          "text": [
            "INFO:tensorflow:Assets written to: model4/assets\n",
            "WARNING:absl:<keras.layers.recurrent.LSTMCell object at 0x7f094cfec750> has the same name 'LSTMCell' as a built-in Keras object. Consider renaming <class 'keras.layers.recurrent.LSTMCell'> to avoid naming conflicts when loading with `tf.keras.models.load_model`. If renaming is not possible, pass the object in the `custom_objects` parameter of the load function.\n"
          ]
        },
        {
          "output_type": "stream",
          "name": "stdout",
          "text": [
            "\b\b\b\b\b\b\b\b\b\b\b\b\b\b\b\b\b\b\b\b\b\b\b\b\b\b\b\b\b\b\b\b\b\b\b\b\b\b\b\b\b\b\b\b\b\b\b\b\b\b\b\b\b\b\b\b\b\b\b\b\b\b\b\b\b\b\b\b\b\b\b\b\b\b\b\b\b\b\b\b\b\b\b\b\b\b\b\b\b\b\b\b\b\b\b\b\b\b\b\b\b\b\b\r11171/11171 [==============================] - 54s 5ms/step - loss: 0.0461 - root_mean_squared_error: 0.2146 - val_loss: 0.0281 - val_root_mean_squared_error: 0.1675\n",
            "Epoch 6/10\n",
            "11171/11171 [==============================] - 50s 4ms/step - loss: 0.0444 - root_mean_squared_error: 0.2108 - val_loss: 0.0283 - val_root_mean_squared_error: 0.1681\n",
            "Epoch 7/10\n",
            "11171/11171 [==============================] - 53s 5ms/step - loss: 0.0436 - root_mean_squared_error: 0.2088 - val_loss: 0.0291 - val_root_mean_squared_error: 0.1706\n",
            "Epoch 8/10\n",
            "11170/11171 [============================>.] - ETA: 0s - loss: 0.0430 - root_mean_squared_error: 0.2074"
          ]
        },
        {
          "output_type": "stream",
          "name": "stderr",
          "text": [
            "WARNING:absl:Found untraced functions such as lstm_cell_1_layer_call_fn, lstm_cell_1_layer_call_and_return_conditional_losses while saving (showing 2 of 2). These functions will not be directly callable after loading.\n"
          ]
        },
        {
          "output_type": "stream",
          "name": "stdout",
          "text": [
            "INFO:tensorflow:Assets written to: model4/assets\n"
          ]
        },
        {
          "output_type": "stream",
          "name": "stderr",
          "text": [
            "INFO:tensorflow:Assets written to: model4/assets\n",
            "WARNING:absl:<keras.layers.recurrent.LSTMCell object at 0x7f094cfec750> has the same name 'LSTMCell' as a built-in Keras object. Consider renaming <class 'keras.layers.recurrent.LSTMCell'> to avoid naming conflicts when loading with `tf.keras.models.load_model`. If renaming is not possible, pass the object in the `custom_objects` parameter of the load function.\n"
          ]
        },
        {
          "output_type": "stream",
          "name": "stdout",
          "text": [
            "\b\b\b\b\b\b\b\b\b\b\b\b\b\b\b\b\b\b\b\b\b\b\b\b\b\b\b\b\b\b\b\b\b\b\b\b\b\b\b\b\b\b\b\b\b\b\b\b\b\b\b\b\b\b\b\b\b\b\b\b\b\b\b\b\b\b\b\b\b\b\b\b\b\b\b\b\b\b\b\b\b\b\b\b\b\b\b\b\b\b\b\b\b\b\b\b\b\b\b\b\b\b\b\r11171/11171 [==============================] - 68s 6ms/step - loss: 0.0430 - root_mean_squared_error: 0.2074 - val_loss: 0.0270 - val_root_mean_squared_error: 0.1643\n",
            "Epoch 9/10\n",
            "11171/11171 [==============================] - 63s 6ms/step - loss: 0.0428 - root_mean_squared_error: 0.2068 - val_loss: 0.0323 - val_root_mean_squared_error: 0.1798\n",
            "Epoch 10/10\n",
            "11170/11171 [============================>.] - ETA: 0s - loss: 0.0424 - root_mean_squared_error: 0.2060"
          ]
        },
        {
          "output_type": "stream",
          "name": "stderr",
          "text": [
            "WARNING:absl:Found untraced functions such as lstm_cell_1_layer_call_fn, lstm_cell_1_layer_call_and_return_conditional_losses while saving (showing 2 of 2). These functions will not be directly callable after loading.\n"
          ]
        },
        {
          "output_type": "stream",
          "name": "stdout",
          "text": [
            "INFO:tensorflow:Assets written to: model4/assets\n"
          ]
        },
        {
          "output_type": "stream",
          "name": "stderr",
          "text": [
            "INFO:tensorflow:Assets written to: model4/assets\n",
            "WARNING:absl:<keras.layers.recurrent.LSTMCell object at 0x7f094cfec750> has the same name 'LSTMCell' as a built-in Keras object. Consider renaming <class 'keras.layers.recurrent.LSTMCell'> to avoid naming conflicts when loading with `tf.keras.models.load_model`. If renaming is not possible, pass the object in the `custom_objects` parameter of the load function.\n"
          ]
        },
        {
          "output_type": "stream",
          "name": "stdout",
          "text": [
            "\b\b\b\b\b\b\b\b\b\b\b\b\b\b\b\b\b\b\b\b\b\b\b\b\b\b\b\b\b\b\b\b\b\b\b\b\b\b\b\b\b\b\b\b\b\b\b\b\b\b\b\b\b\b\b\b\b\b\b\b\b\b\b\b\b\b\b\b\b\b\b\b\b\b\b\b\b\b\b\b\b\b\b\b\b\b\b\b\b\b\b\b\b\b\b\b\b\b\b\b\b\b\b\r11171/11171 [==============================] - 67s 6ms/step - loss: 0.0424 - root_mean_squared_error: 0.2060 - val_loss: 0.0265 - val_root_mean_squared_error: 0.1629\n"
          ]
        },
        {
          "output_type": "execute_result",
          "data": {
            "text/plain": [
              "<keras.callbacks.History at 0x7f08aae48710>"
            ]
          },
          "metadata": {},
          "execution_count": 58
        }
      ]
    },
    {
      "cell_type": "markdown",
      "source": [
        "####Plotting the predictions"
      ],
      "metadata": {
        "id": "UeX5-CWjS5Kf"
      }
    },
    {
      "cell_type": "code",
      "source": [
        "plot_predictions(model4,X2_test,y2_test)"
      ],
      "metadata": {
        "colab": {
          "base_uri": "https://localhost:8080/",
          "height": 508
        },
        "id": "JmMCRizASie-",
        "outputId": "44745f57-960a-4488-be32-7bc8b6289897"
      },
      "execution_count": 59,
      "outputs": [
        {
          "output_type": "execute_result",
          "data": {
            "text/plain": [
              "(       Predictions  Actuals\n",
              " 0         2.721329     2.80\n",
              " 1         2.742496     2.80\n",
              " 2         2.738600     2.75\n",
              " 3         2.662279     2.73\n",
              " 4         2.666114     2.67\n",
              " ...            ...      ...\n",
              " 42051    -4.073081    -4.05\n",
              " 42052    -4.105648    -3.35\n",
              " 42053    -3.100757    -3.16\n",
              " 42054    -3.207119    -4.23\n",
              " 42055    -4.689691    -4.82\n",
              " \n",
              " [42056 rows x 2 columns], 0.045388657531379474)"
            ]
          },
          "metadata": {},
          "execution_count": 59
        },
        {
          "output_type": "display_data",
          "data": {
            "text/plain": [
              "<Figure size 432x288 with 1 Axes>"
            ],
            "image/png": "[encoded data removed]"
          },
          "metadata": {
            "needs_background": "light"
          }
        }
      ]
    },
    {
      "cell_type": "markdown",
      "source": [
        "####Predicting the pressure as output along with the temperature"
      ],
      "metadata": {
        "id": "5tRIWpNvTMpD"
      }
    },
    {
      "cell_type": "code",
      "source": [
        "p_temp_df = pd.concat([df['p (mbar)'],temp_df],axis = 1)"
      ],
      "metadata": {
        "id": "mBf_xwkQTETq"
      },
      "execution_count": 62,
      "outputs": []
    },
    {
      "cell_type": "code",
      "source": [
        "p_temp_df.head()"
      ],
      "metadata": {
        "colab": {
          "base_uri": "https://localhost:8080/",
          "height": 238
        },
        "id": "XSYH7kukTxGW",
        "outputId": "c3d6720d-3cdc-4c8a-87a9-57f0c4af8a0e"
      },
      "execution_count": 64,
      "outputs": [
        {
          "output_type": "execute_result",
          "data": {
            "text/plain": [
              "                     p (mbar)  Temperature   Day sin   Day cos  Year sin  \\\n",
              "Date Time                                                                  \n",
              "2009-01-01 00:10:00    996.52        -8.02  0.043619  0.999048  0.009452   \n",
              "2009-01-01 00:20:00    996.57        -8.41  0.087156  0.996195  0.009571   \n",
              "2009-01-01 00:30:00    996.53        -8.51  0.130526  0.991445  0.009691   \n",
              "2009-01-01 00:40:00    996.51        -8.31  0.173648  0.984808  0.009810   \n",
              "2009-01-01 00:50:00    996.51        -8.27  0.216440  0.976296  0.009930   \n",
              "\n",
              "                     Year cos  \n",
              "Date Time                      \n",
              "2009-01-01 00:10:00  0.999955  \n",
              "2009-01-01 00:20:00  0.999954  \n",
              "2009-01-01 00:30:00  0.999953  \n",
              "2009-01-01 00:40:00  0.999952  \n",
              "2009-01-01 00:50:00  0.999951  "
            ],
            "text/html": [
              "\n",
              "  <div id=\"df-6f8f3cca-289f-4b16-a158-e16c2b12f4ad\">\n",
              "    <div class=\"colab-df-container\">\n",
              "      <div>\n",
              "<style scoped>\n",
              "    .dataframe tbody tr th:only-of-type {\n",
              "        vertical-align: middle;\n",
              "    }\n",
              "\n",
              "    .dataframe tbody tr th {\n",
              "        vertical-align: top;\n",
              "    }\n",
              "\n",
              "    .dataframe thead th {\n",
              "        text-align: right;\n",
              "    }\n",
              "</style>\n",
              "<table border=\"1\" class=\"dataframe\">\n",
              "  <thead>\n",
              "    <tr style=\"text-align: right;\">\n",
              "      <th></th>\n",
              "      <th>p (mbar)</th>\n",
              "      <th>Temperature</th>\n",
              "      <th>Day sin</th>\n",
              "      <th>Day cos</th>\n",
              "      <th>Year sin</th>\n",
              "      <th>Year cos</th>\n",
              "    </tr>\n",
              "    <tr>\n",
              "      <th>Date Time</th>\n",
              "      <th></th>\n",
              "      <th></th>\n",
              "      <th></th>\n",
              "      <th></th>\n",
              "      <th></th>\n",
              "      <th></th>\n",
              "    </tr>\n",
              "  </thead>\n",
              "  <tbody>\n",
              "    <tr>\n",
              "      <th>2009-01-01 00:10:00</th>\n",
              "      <td>996.52</td>\n",
              "      <td>-8.02</td>\n",
              "      <td>0.043619</td>\n",
              "      <td>0.999048</td>\n",
              "      <td>0.009452</td>\n",
              "      <td>0.999955</td>\n",
              "    </tr>\n",
              "    <tr>\n",
              "      <th>2009-01-01 00:20:00</th>\n",
              "      <td>996.57</td>\n",
              "      <td>-8.41</td>\n",
              "      <td>0.087156</td>\n",
              "      <td>0.996195</td>\n",
              "      <td>0.009571</td>\n",
              "      <td>0.999954</td>\n",
              "    </tr>\n",
              "    <tr>\n",
              "      <th>2009-01-01 00:30:00</th>\n",
              "      <td>996.53</td>\n",
              "      <td>-8.51</td>\n",
              "      <td>0.130526</td>\n",
              "      <td>0.991445</td>\n",
              "      <td>0.009691</td>\n",
              "      <td>0.999953</td>\n",
              "    </tr>\n",
              "    <tr>\n",
              "      <th>2009-01-01 00:40:00</th>\n",
              "      <td>996.51</td>\n",
              "      <td>-8.31</td>\n",
              "      <td>0.173648</td>\n",
              "      <td>0.984808</td>\n",
              "      <td>0.009810</td>\n",
              "      <td>0.999952</td>\n",
              "    </tr>\n",
              "    <tr>\n",
              "      <th>2009-01-01 00:50:00</th>\n",
              "      <td>996.51</td>\n",
              "      <td>-8.27</td>\n",
              "      <td>0.216440</td>\n",
              "      <td>0.976296</td>\n",
              "      <td>0.009930</td>\n",
              "      <td>0.999951</td>\n",
              "    </tr>\n",
              "  </tbody>\n",
              "</table>\n",
              "</div>\n",
              "      <button class=\"colab-df-convert\" onclick=\"convertToInteractive('df-6f8f3cca-289f-4b16-a158-e16c2b12f4ad')\"\n",
              "              title=\"Convert this dataframe to an interactive table.\"\n",
              "              style=\"display:none;\">\n",
              "        \n",
              "  <svg xmlns=\"http://www.w3.org/2000/svg\" height=\"24px\"viewBox=\"0 0 24 24\"\n",
              "       width=\"24px\">\n",
              "    <path d=\"M0 0h24v24H0V0z\" fill=\"none\"/>\n",
              "    <path d=\"M18.56 5.44l.94 2.06.94-2.06 2.06-.94-2.06-.94-.94-2.06-.94 2.06-2.06.94zm-11 1L8.5 8.5l.94-2.06 2.06-.94-2.06-.94L8.5 2.5l-.94 2.06-2.06.94zm10 10l.94 2.06.94-2.06 2.06-.94-2.06-.94-.94-2.06-.94 2.06-2.06.94z\"/><path d=\"M17.41 7.96l-1.37-1.37c-.4-.4-.92-.59-1.43-.59-.52 0-1.04.2-1.43.59L10.3 9.45l-7.72 7.72c-.78.78-.78 2.05 0 2.83L4 21.41c.39.39.9.59 1.41.59.51 0 1.02-.2 1.41-.59l7.78-7.78 2.81-2.81c.8-.78.8-2.07 0-2.86zM5.41 20L4 18.59l7.72-7.72 1.47 1.35L5.41 20z\"/>\n",
              "  </svg>\n",
              "      </button>\n",
              "      \n",
              "  <style>\n",
              "    .colab-df-container {\n",
              "      display:flex;\n",
              "      flex-wrap:wrap;\n",
              "      gap: 12px;\n",
              "    }\n",
              "\n",
              "    .colab-df-convert {\n",
              "      background-color: #E8F0FE;\n",
              "      border: none;\n",
              "      border-radius: 50%;\n",
              "      cursor: pointer;\n",
              "      display: none;\n",
              "      fill: #1967D2;\n",
              "      height: 32px;\n",
              "      padding: 0 0 0 0;\n",
              "      width: 32px;\n",
              "    }\n",
              "\n",
              "    .colab-df-convert:hover {\n",
              "      background-color: #E2EBFA;\n",
              "      box-shadow: 0px 1px 2px rgba(60, 64, 67, 0.3), 0px 1px 3px 1px rgba(60, 64, 67, 0.15);\n",
              "      fill: #174EA6;\n",
              "    }\n",
              "\n",
              "    [theme=dark] .colab-df-convert {\n",
              "      background-color: #3B4455;\n",
              "      fill: #D2E3FC;\n",
              "    }\n",
              "\n",
              "    [theme=dark] .colab-df-convert:hover {\n",
              "      background-color: #434B5C;\n",
              "      box-shadow: 0px 1px 3px 1px rgba(0, 0, 0, 0.15);\n",
              "      filter: drop-shadow(0px 1px 2px rgba(0, 0, 0, 0.3));\n",
              "      fill: #FFFFFF;\n",
              "    }\n",
              "  </style>\n",
              "\n",
              "      <script>\n",
              "        const buttonEl =\n",
              "          document.querySelector('#df-6f8f3cca-289f-4b16-a158-e16c2b12f4ad button.colab-df-convert');\n",
              "        buttonEl.style.display =\n",
              "          google.colab.kernel.accessAllowed ? 'block' : 'none';\n",
              "\n",
              "        async function convertToInteractive(key) {\n",
              "          const element = document.querySelector('#df-6f8f3cca-289f-4b16-a158-e16c2b12f4ad');\n",
              "          const dataTable =\n",
              "            await google.colab.kernel.invokeFunction('convertToInteractive',\n",
              "                                                     [key], {});\n",
              "          if (!dataTable) return;\n",
              "\n",
              "          const docLinkHtml = 'Like what you see? Visit the ' +\n",
              "            '<a target=\"_blank\" href=https://colab.research.google.com/notebooks/data_table.ipynb>data table notebook</a>'\n",
              "            + ' to learn more about interactive tables.';\n",
              "          element.innerHTML = '';\n",
              "          dataTable['output_type'] = 'display_data';\n",
              "          await google.colab.output.renderOutput(dataTable, element);\n",
              "          const docLink = document.createElement('div');\n",
              "          docLink.innerHTML = docLinkHtml;\n",
              "          element.appendChild(docLink);\n",
              "        }\n",
              "      </script>\n",
              "    </div>\n",
              "  </div>\n",
              "  "
            ]
          },
          "metadata": {},
          "execution_count": 64
        }
      ]
    },
    {
      "cell_type": "markdown",
      "source": [
        "####Modifying the function in order to incorporate pressure as well along with the temperature in a sliding window fashion."
      ],
      "metadata": {
        "id": "kURhPxUmU6nW"
      }
    },
    {
      "cell_type": "code",
      "source": [
        "#Look at the last 4 values in order to set them as the target variable\n",
        "#New methodology\n",
        "# x = [[[t1,p1,ds1,dc1,ys1,yc1],[t2,ds2,dc2,ys2,yc2]],[t3,ds3,dc3,ys3,yc3],[t4,ds4,dc4,ys4,yc4],[t5,ds5,dc5,ys5,yc5]]] y= [t6]\n",
        "\n",
        "def df_to_X_y_multi_p(df,window_size = 5):\n",
        "  df_as_np = df.to_numpy()\n",
        "  X = []\n",
        "  y = []\n",
        "  for i in range(len(df_as_np)-window_size):\n",
        "    row = [r for r in df_as_np[i:i+window_size]]\n",
        "    X.append(row)\n",
        "    label = [df_as_np[i+window_size][0],df_as_np[i+window_size][1]]\n",
        "    y.append(label)\n",
        "  return np.array(X),np.array(y)"
      ],
      "metadata": {
        "id": "ylUwY00tU6WQ"
      },
      "execution_count": 65,
      "outputs": []
    },
    {
      "cell_type": "markdown",
      "source": [
        "####Data processing and pre processing the pressure data along with the temperature data"
      ],
      "metadata": {
        "id": "h9ma5or7Ww2n"
      }
    },
    {
      "cell_type": "code",
      "source": [
        "X3,y3 = df_to_X_y_multi_p(p_temp_df)"
      ],
      "metadata": {
        "id": "Yuyqx1JFVNqy"
      },
      "execution_count": 66,
      "outputs": []
    },
    {
      "cell_type": "code",
      "source": [
        "X3.shape,y3.shape"
      ],
      "metadata": {
        "colab": {
          "base_uri": "https://localhost:8080/"
        },
        "id": "mAGc75bMVWfG",
        "outputId": "6fd9196b-11c2-4c12-9954-34d48803ba1d"
      },
      "execution_count": 68,
      "outputs": [
        {
          "output_type": "execute_result",
          "data": {
            "text/plain": [
              "((420546, 5, 6), (420546, 2))"
            ]
          },
          "metadata": {},
          "execution_count": 68
        }
      ]
    },
    {
      "cell_type": "code",
      "source": [
        "X3_train,y3_train = X3[:357464], y3[:357464]\n",
        "X3_val,y3_val = X3[357464:378490], y3[357464:378490]\n",
        "X3_test,y3_test = X3[378490:], y3[378490:]"
      ],
      "metadata": {
        "id": "0cFpng0VVuhN"
      },
      "execution_count": 69,
      "outputs": []
    },
    {
      "cell_type": "markdown",
      "source": [
        "####Defining the function in order to preprocess the input and the output using standardization"
      ],
      "metadata": {
        "id": "j9gJEbnpXlM7"
      }
    },
    {
      "cell_type": "code",
      "source": [
        "p_training_mean3 = np.mean(X3_train[:,:,0])\n",
        "p_training_sd3 = np.std(X3_train[:,:,0])\n",
        "\n",
        "temp_training_mean3 = np.mean(X3_train[:,:,1])\n",
        "temp_training_sd3 = np.std(X3_train[:,:,1])\n",
        "\n",
        "def preprocess3(X):\n",
        "  X[:,:,0] = (X[:,:,0]-p_training_mean3)/p_training_sd3\n",
        "  X[:,:,1] = (X[:,:,1]-temp_training_mean3)/temp_training_sd3 \n",
        "\n",
        "def preprocess_out(y):\n",
        "  y[:,0] = (y[:,0]-p_training_mean3)/p_training_sd3\n",
        "  y[:,1] = (y[:,1]-temp_training_mean3)/temp_training_sd3 \n",
        "  return y"
      ],
      "metadata": {
        "id": "cYyoUiZpWaw1"
      },
      "execution_count": 77,
      "outputs": []
    },
    {
      "cell_type": "code",
      "source": [
        "preprocess3(X3_train)\n",
        "preprocess3(X3_test)\n",
        "preprocess3(X3_val)"
      ],
      "metadata": {
        "id": "w8MunIxGXssC"
      },
      "execution_count": 72,
      "outputs": []
    },
    {
      "cell_type": "code",
      "source": [
        "y3_train.shape"
      ],
      "metadata": {
        "colab": {
          "base_uri": "https://localhost:8080/"
        },
        "id": "gfTFDqwpYHRn",
        "outputId": "12dcc7f0-b7d3-4cfb-ca52-e56ec78320e5"
      },
      "execution_count": 74,
      "outputs": [
        {
          "output_type": "execute_result",
          "data": {
            "text/plain": [
              "(357464, 2)"
            ]
          },
          "metadata": {},
          "execution_count": 74
        }
      ]
    },
    {
      "cell_type": "code",
      "source": [
        "preprocess_out(y3_train)\n",
        "preprocess_out(y3_test)\n",
        "preprocess_out(y3_val)"
      ],
      "metadata": {
        "colab": {
          "base_uri": "https://localhost:8080/"
        },
        "id": "kvYEqFpBX4IK",
        "outputId": "4f802e04-80ea-4dfa-aea7-9d6240024ada"
      },
      "execution_count": 84,
      "outputs": [
        {
          "output_type": "execute_result",
          "data": {
            "text/plain": [
              "array([[ 992.41,    6.53],\n",
              "       [ 992.44,    6.57],\n",
              "       [ 992.44,    6.55],\n",
              "       ...,\n",
              "       [1002.07,    2.84],\n",
              "       [1002.14,    2.86],\n",
              "       [1002.19,    2.81]])"
            ]
          },
          "metadata": {},
          "execution_count": 84
        }
      ]
    },
    {
      "cell_type": "markdown",
      "source": [
        "####Defining the model and incorporating pressure as well"
      ],
      "metadata": {
        "id": "-Uz7KIxNYebS"
      }
    },
    {
      "cell_type": "code",
      "source": [
        "model5 = Sequential()\n",
        "model5.add(InputLayer((5,6)))\n",
        "model5.add(LSTM(64))\n",
        "model5.add(Dense(8,'relu'))\n",
        "model5.add(Dense(2,'linear'))\n",
        "\n",
        "model5.summary()"
      ],
      "metadata": {
        "colab": {
          "base_uri": "https://localhost:8080/"
        },
        "id": "nZSfTy1TYUVG",
        "outputId": "0236a554-3de8-4295-81a4-b842d581baac"
      },
      "execution_count": 79,
      "outputs": [
        {
          "output_type": "stream",
          "name": "stdout",
          "text": [
            "Model: \"sequential_4\"\n",
            "_________________________________________________________________\n",
            " Layer (type)                Output Shape              Param #   \n",
            "=================================================================\n",
            " lstm_2 (LSTM)               (None, 64)                18176     \n",
            "                                                                 \n",
            " dense_8 (Dense)             (None, 8)                 520       \n",
            "                                                                 \n",
            " dense_9 (Dense)             (None, 2)                 18        \n",
            "                                                                 \n",
            "=================================================================\n",
            "Total params: 18,714\n",
            "Trainable params: 18,714\n",
            "Non-trainable params: 0\n",
            "_________________________________________________________________\n"
          ]
        }
      ]
    },
    {
      "cell_type": "markdown",
      "source": [
        "####Checkpointing and training the temperature-pressure model\n"
      ],
      "metadata": {
        "id": "2qiwxU9KY4P3"
      }
    },
    {
      "cell_type": "code",
      "source": [
        "#Defining the checkpoints\n",
        "cp5 = ModelCheckpoint('model5/',save_best_only=True)\n",
        "model5.compile(loss=MeanSquaredError(),optimizer=Adam(learning_rate = 1e-4),metrics = [RootMeanSquaredError()])\n",
        "\n",
        "#Training the data\n",
        "model5.fit(X3_train,y3_train,validation_data = (X3_val,y3_val),epochs = 10,callbacks=[cp5])"
      ],
      "metadata": {
        "colab": {
          "base_uri": "https://localhost:8080/"
        },
        "outputId": "bee1124b-46b1-4ca0-974d-75d5f130b5cf",
        "id": "H9SbTQMsY4P3"
      },
      "execution_count": 80,
      "outputs": [
        {
          "output_type": "stream",
          "name": "stdout",
          "text": [
            "Epoch 1/10\n",
            "11161/11171 [============================>.] - ETA: 0s - loss: 327897.4062 - root_mean_squared_error: 572.6233"
          ]
        },
        {
          "output_type": "stream",
          "name": "stderr",
          "text": [
            "WARNING:absl:Found untraced functions such as lstm_cell_2_layer_call_fn, lstm_cell_2_layer_call_and_return_conditional_losses while saving (showing 2 of 2). These functions will not be directly callable after loading.\n"
          ]
        },
        {
          "output_type": "stream",
          "name": "stdout",
          "text": [
            "INFO:tensorflow:Assets written to: model5/assets\n"
          ]
        },
        {
          "output_type": "stream",
          "name": "stderr",
          "text": [
            "INFO:tensorflow:Assets written to: model5/assets\n",
            "WARNING:absl:<keras.layers.recurrent.LSTMCell object at 0x7f08ba0a3490> has the same name 'LSTMCell' as a built-in Keras object. Consider renaming <class 'keras.layers.recurrent.LSTMCell'> to avoid naming conflicts when loading with `tf.keras.models.load_model`. If renaming is not possible, pass the object in the `custom_objects` parameter of the load function.\n"
          ]
        },
        {
          "output_type": "stream",
          "name": "stdout",
          "text": [
            "\b\b\b\b\b\b\b\b\b\b\b\b\b\b\b\b\b\b\b\b\b\b\b\b\b\b\b\b\b\b\b\b\b\b\b\b\b\b\b\b\b\b\b\b\b\b\b\b\b\b\b\b\b\b\b\b\b\b\b\b\b\b\b\b\b\b\b\b\b\b\b\b\b\b\b\b\b\b\b\b\b\b\b\b\b\b\b\b\b\b\b\b\b\b\b\b\b\b\b\b\b\b\b\b\b\b\b\b\b\b\r11171/11171 [==============================] - 52s 4ms/step - loss: 327736.5312 - root_mean_squared_error: 572.4828 - val_loss: 144054.2031 - val_root_mean_squared_error: 379.5447\n",
            "Epoch 2/10\n",
            "11163/11171 [============================>.] - ETA: 0s - loss: 37148.7500 - root_mean_squared_error: 192.7401"
          ]
        },
        {
          "output_type": "stream",
          "name": "stderr",
          "text": [
            "WARNING:absl:Found untraced functions such as lstm_cell_2_layer_call_fn, lstm_cell_2_layer_call_and_return_conditional_losses while saving (showing 2 of 2). These functions will not be directly callable after loading.\n"
          ]
        },
        {
          "output_type": "stream",
          "name": "stdout",
          "text": [
            "INFO:tensorflow:Assets written to: model5/assets\n"
          ]
        },
        {
          "output_type": "stream",
          "name": "stderr",
          "text": [
            "INFO:tensorflow:Assets written to: model5/assets\n",
            "WARNING:absl:<keras.layers.recurrent.LSTMCell object at 0x7f08ba0a3490> has the same name 'LSTMCell' as a built-in Keras object. Consider renaming <class 'keras.layers.recurrent.LSTMCell'> to avoid naming conflicts when loading with `tf.keras.models.load_model`. If renaming is not possible, pass the object in the `custom_objects` parameter of the load function.\n"
          ]
        },
        {
          "output_type": "stream",
          "name": "stdout",
          "text": [
            "\b\b\b\b\b\b\b\b\b\b\b\b\b\b\b\b\b\b\b\b\b\b\b\b\b\b\b\b\b\b\b\b\b\b\b\b\b\b\b\b\b\b\b\b\b\b\b\b\b\b\b\b\b\b\b\b\b\b\b\b\b\b\b\b\b\b\b\b\b\b\b\b\b\b\b\b\b\b\b\b\b\b\b\b\b\b\b\b\b\b\b\b\b\b\b\b\b\b\b\b\b\b\b\b\b\b\b\b\b\r11171/11171 [==============================] - 51s 5ms/step - loss: 37123.0234 - root_mean_squared_error: 192.6734 - val_loss: 80.6273 - val_root_mean_squared_error: 8.9793\n",
            "Epoch 3/10\n",
            "11159/11171 [============================>.] - ETA: 0s - loss: 75.7561 - root_mean_squared_error: 8.7038"
          ]
        },
        {
          "output_type": "stream",
          "name": "stderr",
          "text": [
            "WARNING:absl:Found untraced functions such as lstm_cell_2_layer_call_fn, lstm_cell_2_layer_call_and_return_conditional_losses while saving (showing 2 of 2). These functions will not be directly callable after loading.\n"
          ]
        },
        {
          "output_type": "stream",
          "name": "stdout",
          "text": [
            "INFO:tensorflow:Assets written to: model5/assets\n"
          ]
        },
        {
          "output_type": "stream",
          "name": "stderr",
          "text": [
            "INFO:tensorflow:Assets written to: model5/assets\n",
            "WARNING:absl:<keras.layers.recurrent.LSTMCell object at 0x7f08ba0a3490> has the same name 'LSTMCell' as a built-in Keras object. Consider renaming <class 'keras.layers.recurrent.LSTMCell'> to avoid naming conflicts when loading with `tf.keras.models.load_model`. If renaming is not possible, pass the object in the `custom_objects` parameter of the load function.\n"
          ]
        },
        {
          "output_type": "stream",
          "name": "stdout",
          "text": [
            "\b\b\b\b\b\b\b\b\b\b\b\b\b\b\b\b\b\b\b\b\b\b\b\b\b\b\b\b\b\b\b\b\b\b\b\b\b\b\b\b\b\b\b\b\b\b\b\b\b\b\b\b\b\b\b\b\b\b\b\b\b\b\b\b\b\b\b\b\b\b\b\b\b\b\b\b\b\b\b\b\b\b\b\b\b\b\b\b\b\b\b\b\b\b\b\b\b\b\b\b\b\b\b\b\r11171/11171 [==============================] - 49s 4ms/step - loss: 75.7513 - root_mean_squared_error: 8.7035 - val_loss: 77.7406 - val_root_mean_squared_error: 8.8171\n",
            "Epoch 4/10\n",
            "11171/11171 [==============================] - 46s 4ms/step - loss: 87.5070 - root_mean_squared_error: 9.3545 - val_loss: 79.8530 - val_root_mean_squared_error: 8.9361\n",
            "Epoch 5/10\n",
            "11171/11171 [==============================] - 46s 4ms/step - loss: 83.7422 - root_mean_squared_error: 9.1511 - val_loss: 78.2785 - val_root_mean_squared_error: 8.8475\n",
            "Epoch 6/10\n",
            "11162/11171 [============================>.] - ETA: 0s - loss: 64.9806 - root_mean_squared_error: 8.0611"
          ]
        },
        {
          "output_type": "stream",
          "name": "stderr",
          "text": [
            "WARNING:absl:Found untraced functions such as lstm_cell_2_layer_call_fn, lstm_cell_2_layer_call_and_return_conditional_losses while saving (showing 2 of 2). These functions will not be directly callable after loading.\n"
          ]
        },
        {
          "output_type": "stream",
          "name": "stdout",
          "text": [
            "INFO:tensorflow:Assets written to: model5/assets\n"
          ]
        },
        {
          "output_type": "stream",
          "name": "stderr",
          "text": [
            "INFO:tensorflow:Assets written to: model5/assets\n",
            "WARNING:absl:<keras.layers.recurrent.LSTMCell object at 0x7f08ba0a3490> has the same name 'LSTMCell' as a built-in Keras object. Consider renaming <class 'keras.layers.recurrent.LSTMCell'> to avoid naming conflicts when loading with `tf.keras.models.load_model`. If renaming is not possible, pass the object in the `custom_objects` parameter of the load function.\n"
          ]
        },
        {
          "output_type": "stream",
          "name": "stdout",
          "text": [
            "\b\b\b\b\b\b\b\b\b\b\b\b\b\b\b\b\b\b\b\b\b\b\b\b\b\b\b\b\b\b\b\b\b\b\b\b\b\b\b\b\b\b\b\b\b\b\b\b\b\b\b\b\b\b\b\b\b\b\b\b\b\b\b\b\b\b\b\b\b\b\b\b\b\b\b\b\b\b\b\b\b\b\b\b\b\b\b\b\b\b\b\b\b\b\b\b\b\b\b\b\b\b\b\b\r11171/11171 [==============================] - 49s 4ms/step - loss: 64.9587 - root_mean_squared_error: 8.0597 - val_loss: 26.3115 - val_root_mean_squared_error: 5.1295\n",
            "Epoch 7/10\n",
            "11170/11171 [============================>.] - ETA: 0s - loss: 41.4800 - root_mean_squared_error: 6.4405"
          ]
        },
        {
          "output_type": "stream",
          "name": "stderr",
          "text": [
            "WARNING:absl:Found untraced functions such as lstm_cell_2_layer_call_fn, lstm_cell_2_layer_call_and_return_conditional_losses while saving (showing 2 of 2). These functions will not be directly callable after loading.\n"
          ]
        },
        {
          "output_type": "stream",
          "name": "stdout",
          "text": [
            "INFO:tensorflow:Assets written to: model5/assets\n"
          ]
        },
        {
          "output_type": "stream",
          "name": "stderr",
          "text": [
            "INFO:tensorflow:Assets written to: model5/assets\n",
            "WARNING:absl:<keras.layers.recurrent.LSTMCell object at 0x7f08ba0a3490> has the same name 'LSTMCell' as a built-in Keras object. Consider renaming <class 'keras.layers.recurrent.LSTMCell'> to avoid naming conflicts when loading with `tf.keras.models.load_model`. If renaming is not possible, pass the object in the `custom_objects` parameter of the load function.\n"
          ]
        },
        {
          "output_type": "stream",
          "name": "stdout",
          "text": [
            "\b\b\b\b\b\b\b\b\b\b\b\b\b\b\b\b\b\b\b\b\b\b\b\b\b\b\b\b\b\b\b\b\b\b\b\b\b\b\b\b\b\b\b\b\b\b\b\b\b\b\b\b\b\b\b\b\b\b\b\b\b\b\b\b\b\b\b\b\b\b\b\b\b\b\b\b\b\b\b\b\b\b\b\b\b\b\b\b\b\b\b\b\b\b\b\b\b\b\b\b\b\b\b\b\r11171/11171 [==============================] - 50s 4ms/step - loss: 41.4793 - root_mean_squared_error: 6.4404 - val_loss: 23.3672 - val_root_mean_squared_error: 4.8340\n",
            "Epoch 8/10\n",
            "11169/11171 [============================>.] - ETA: 0s - loss: 40.3252 - root_mean_squared_error: 6.3502"
          ]
        },
        {
          "output_type": "stream",
          "name": "stderr",
          "text": [
            "WARNING:absl:Found untraced functions such as lstm_cell_2_layer_call_fn, lstm_cell_2_layer_call_and_return_conditional_losses while saving (showing 2 of 2). These functions will not be directly callable after loading.\n"
          ]
        },
        {
          "output_type": "stream",
          "name": "stdout",
          "text": [
            "INFO:tensorflow:Assets written to: model5/assets\n"
          ]
        },
        {
          "output_type": "stream",
          "name": "stderr",
          "text": [
            "INFO:tensorflow:Assets written to: model5/assets\n",
            "WARNING:absl:<keras.layers.recurrent.LSTMCell object at 0x7f08ba0a3490> has the same name 'LSTMCell' as a built-in Keras object. Consider renaming <class 'keras.layers.recurrent.LSTMCell'> to avoid naming conflicts when loading with `tf.keras.models.load_model`. If renaming is not possible, pass the object in the `custom_objects` parameter of the load function.\n"
          ]
        },
        {
          "output_type": "stream",
          "name": "stdout",
          "text": [
            "\b\b\b\b\b\b\b\b\b\b\b\b\b\b\b\b\b\b\b\b\b\b\b\b\b\b\b\b\b\b\b\b\b\b\b\b\b\b\b\b\b\b\b\b\b\b\b\b\b\b\b\b\b\b\b\b\b\b\b\b\b\b\b\b\b\b\b\b\b\b\b\b\b\b\b\b\b\b\b\b\b\b\b\b\b\b\b\b\b\b\b\b\b\b\b\b\b\b\b\b\b\b\b\b\r11171/11171 [==============================] - 49s 4ms/step - loss: 40.3255 - root_mean_squared_error: 6.3502 - val_loss: 21.6147 - val_root_mean_squared_error: 4.6492\n",
            "Epoch 9/10\n",
            "11160/11171 [============================>.] - ETA: 0s - loss: 39.4075 - root_mean_squared_error: 6.2775"
          ]
        },
        {
          "output_type": "stream",
          "name": "stderr",
          "text": [
            "WARNING:absl:Found untraced functions such as lstm_cell_2_layer_call_fn, lstm_cell_2_layer_call_and_return_conditional_losses while saving (showing 2 of 2). These functions will not be directly callable after loading.\n"
          ]
        },
        {
          "output_type": "stream",
          "name": "stdout",
          "text": [
            "INFO:tensorflow:Assets written to: model5/assets\n"
          ]
        },
        {
          "output_type": "stream",
          "name": "stderr",
          "text": [
            "INFO:tensorflow:Assets written to: model5/assets\n",
            "WARNING:absl:<keras.layers.recurrent.LSTMCell object at 0x7f08ba0a3490> has the same name 'LSTMCell' as a built-in Keras object. Consider renaming <class 'keras.layers.recurrent.LSTMCell'> to avoid naming conflicts when loading with `tf.keras.models.load_model`. If renaming is not possible, pass the object in the `custom_objects` parameter of the load function.\n"
          ]
        },
        {
          "output_type": "stream",
          "name": "stdout",
          "text": [
            "\b\b\b\b\b\b\b\b\b\b\b\b\b\b\b\b\b\b\b\b\b\b\b\b\b\b\b\b\b\b\b\b\b\b\b\b\b\b\b\b\b\b\b\b\b\b\b\b\b\b\b\b\b\b\b\b\b\b\b\b\b\b\b\b\b\b\b\b\b\b\b\b\b\b\b\b\b\b\b\b\b\b\b\b\b\b\b\b\b\b\b\b\b\b\b\b\b\b\b\b\b\b\b\b\r11171/11171 [==============================] - 51s 5ms/step - loss: 39.3984 - root_mean_squared_error: 6.2768 - val_loss: 21.1545 - val_root_mean_squared_error: 4.5994\n",
            "Epoch 10/10\n",
            "11159/11171 [============================>.] - ETA: 0s - loss: 35.2224 - root_mean_squared_error: 5.9348"
          ]
        },
        {
          "output_type": "stream",
          "name": "stderr",
          "text": [
            "WARNING:absl:Found untraced functions such as lstm_cell_2_layer_call_fn, lstm_cell_2_layer_call_and_return_conditional_losses while saving (showing 2 of 2). These functions will not be directly callable after loading.\n"
          ]
        },
        {
          "output_type": "stream",
          "name": "stdout",
          "text": [
            "INFO:tensorflow:Assets written to: model5/assets\n"
          ]
        },
        {
          "output_type": "stream",
          "name": "stderr",
          "text": [
            "INFO:tensorflow:Assets written to: model5/assets\n",
            "WARNING:absl:<keras.layers.recurrent.LSTMCell object at 0x7f08ba0a3490> has the same name 'LSTMCell' as a built-in Keras object. Consider renaming <class 'keras.layers.recurrent.LSTMCell'> to avoid naming conflicts when loading with `tf.keras.models.load_model`. If renaming is not possible, pass the object in the `custom_objects` parameter of the load function.\n"
          ]
        },
        {
          "output_type": "stream",
          "name": "stdout",
          "text": [
            "\b\b\b\b\b\b\b\b\b\b\b\b\b\b\b\b\b\b\b\b\b\b\b\b\b\b\b\b\b\b\b\b\b\b\b\b\b\b\b\b\b\b\b\b\b\b\b\b\b\b\b\b\b\b\b\b\b\b\b\b\b\b\b\b\b\b\b\b\b\b\b\b\b\b\b\b\b\b\b\b\b\b\b\b\b\b\b\b\b\b\b\b\b\b\b\b\b\b\b\b\b\b\b\b\r11171/11171 [==============================] - 50s 5ms/step - loss: 35.2025 - root_mean_squared_error: 5.9332 - val_loss: 10.1442 - val_root_mean_squared_error: 3.1850\n"
          ]
        },
        {
          "output_type": "execute_result",
          "data": {
            "text/plain": [
              "<keras.callbacks.History at 0x7f08bc68afd0>"
            ]
          },
          "metadata": {},
          "execution_count": 80
        }
      ]
    },
    {
      "cell_type": "markdown",
      "source": [
        "####Modifying the plotting function in order to incorporate both temp and pressure"
      ],
      "metadata": {
        "id": "uvyIXMpXbacp"
      }
    },
    {
      "cell_type": "code",
      "source": [
        "def plot_predictions_tp(model,X,y,start = 0,end=150):\n",
        "  predictions = model.predict(X)\n",
        "  p_preds,temp_preds = post_process_p(predictions[:,0]),post_process_t(predictions[:,1])\n",
        "  p_actuals,temp_actuals = y[:,0],y[:,1]\n",
        "  df = pd.DataFrame(data = {'Temperature Predictions': temp_preds,\n",
        "                            'Temperature Actuals': temp_actuals,\n",
        "                            'Pressure Predictions': p_preds,\n",
        "                            'Pressure Actuals':p_actuals})\n",
        "  plt.plot(df['Temperature Predictions'][start:end])\n",
        "  plt.plot(df['Temperature Actuals'][start:end])\n",
        "  plt.plot(df['Pressure Predictions'][start:end])\n",
        "  plt.plot(df['Pressure Actuals'][start:end])\n",
        "  return df[start:end]"
      ],
      "metadata": {
        "id": "kY28I_2nbih4"
      },
      "execution_count": 86,
      "outputs": []
    },
    {
      "cell_type": "code",
      "source": [
        "plot_predictions_tp(model5,X3_test,y3_test)"
      ],
      "metadata": {
        "colab": {
          "base_uri": "https://localhost:8080/",
          "height": 672
        },
        "id": "SD3xA5WWcr_d",
        "outputId": "98295283-b931-4a32-8dc5-0d98f68ffd12"
      },
      "execution_count": 87,
      "outputs": [
        {
          "output_type": "execute_result",
          "data": {
            "text/plain": [
              "     Temperature Predictions  Temperature Actuals  Pressure Predictions  \\\n",
              "0                   6.159262                 2.80           1002.655518   \n",
              "1                   6.157694                 2.80           1002.701843   \n",
              "2                   6.155985                 2.75           1002.743896   \n",
              "3                   6.151533                 2.73           1002.761108   \n",
              "4                   6.149889                 2.67           1002.809021   \n",
              "..                       ...                  ...                   ...   \n",
              "145                 6.283289                 0.87           1005.025208   \n",
              "146                 6.280775                 0.87           1005.033020   \n",
              "147                 6.277601                 0.86           1005.031555   \n",
              "148                 6.273333                 0.87           1005.015076   \n",
              "149                 6.270052                 0.87           1005.005371   \n",
              "\n",
              "     Pressure Actuals  \n",
              "0             1002.27  \n",
              "1             1002.34  \n",
              "2             1002.38  \n",
              "3             1002.48  \n",
              "4             1002.51  \n",
              "..                ...  \n",
              "145           1005.34  \n",
              "146           1005.36  \n",
              "147           1005.37  \n",
              "148           1005.39  \n",
              "149           1005.39  \n",
              "\n",
              "[150 rows x 4 columns]"
            ],
            "text/html": [
              "\n",
              "  <div id=\"df-bfdd0cb7-72db-4e79-882e-07693c960aa1\">\n",
              "    <div class=\"colab-df-container\">\n",
              "      <div>\n",
              "<style scoped>\n",
              "    .dataframe tbody tr th:only-of-type {\n",
              "        vertical-align: middle;\n",
              "    }\n",
              "\n",
              "    .dataframe tbody tr th {\n",
              "        vertical-align: top;\n",
              "    }\n",
              "\n",
              "    .dataframe thead th {\n",
              "        text-align: right;\n",
              "    }\n",
              "</style>\n",
              "<table border=\"1\" class=\"dataframe\">\n",
              "  <thead>\n",
              "    <tr style=\"text-align: right;\">\n",
              "      <th></th>\n",
              "      <th>Temperature Predictions</th>\n",
              "      <th>Temperature Actuals</th>\n",
              "      <th>Pressure Predictions</th>\n",
              "      <th>Pressure Actuals</th>\n",
              "    </tr>\n",
              "  </thead>\n",
              "  <tbody>\n",
              "    <tr>\n",
              "      <th>0</th>\n",
              "      <td>6.159262</td>\n",
              "      <td>2.80</td>\n",
              "      <td>1002.655518</td>\n",
              "      <td>1002.27</td>\n",
              "    </tr>\n",
              "    <tr>\n",
              "      <th>1</th>\n",
              "      <td>6.157694</td>\n",
              "      <td>2.80</td>\n",
              "      <td>1002.701843</td>\n",
              "      <td>1002.34</td>\n",
              "    </tr>\n",
              "    <tr>\n",
              "      <th>2</th>\n",
              "      <td>6.155985</td>\n",
              "      <td>2.75</td>\n",
              "      <td>1002.743896</td>\n",
              "      <td>1002.38</td>\n",
              "    </tr>\n",
              "    <tr>\n",
              "      <th>3</th>\n",
              "      <td>6.151533</td>\n",
              "      <td>2.73</td>\n",
              "      <td>1002.761108</td>\n",
              "      <td>1002.48</td>\n",
              "    </tr>\n",
              "    <tr>\n",
              "      <th>4</th>\n",
              "      <td>6.149889</td>\n",
              "      <td>2.67</td>\n",
              "      <td>1002.809021</td>\n",
              "      <td>1002.51</td>\n",
              "    </tr>\n",
              "    <tr>\n",
              "      <th>...</th>\n",
              "      <td>...</td>\n",
              "      <td>...</td>\n",
              "      <td>...</td>\n",
              "      <td>...</td>\n",
              "    </tr>\n",
              "    <tr>\n",
              "      <th>145</th>\n",
              "      <td>6.283289</td>\n",
              "      <td>0.87</td>\n",
              "      <td>1005.025208</td>\n",
              "      <td>1005.34</td>\n",
              "    </tr>\n",
              "    <tr>\n",
              "      <th>146</th>\n",
              "      <td>6.280775</td>\n",
              "      <td>0.87</td>\n",
              "      <td>1005.033020</td>\n",
              "      <td>1005.36</td>\n",
              "    </tr>\n",
              "    <tr>\n",
              "      <th>147</th>\n",
              "      <td>6.277601</td>\n",
              "      <td>0.86</td>\n",
              "      <td>1005.031555</td>\n",
              "      <td>1005.37</td>\n",
              "    </tr>\n",
              "    <tr>\n",
              "      <th>148</th>\n",
              "      <td>6.273333</td>\n",
              "      <td>0.87</td>\n",
              "      <td>1005.015076</td>\n",
              "      <td>1005.39</td>\n",
              "    </tr>\n",
              "    <tr>\n",
              "      <th>149</th>\n",
              "      <td>6.270052</td>\n",
              "      <td>0.87</td>\n",
              "      <td>1005.005371</td>\n",
              "      <td>1005.39</td>\n",
              "    </tr>\n",
              "  </tbody>\n",
              "</table>\n",
              "<p>150 rows × 4 columns</p>\n",
              "</div>\n",
              "      <button class=\"colab-df-convert\" onclick=\"convertToInteractive('df-bfdd0cb7-72db-4e79-882e-07693c960aa1')\"\n",
              "              title=\"Convert this dataframe to an interactive table.\"\n",
              "              style=\"display:none;\">\n",
              "        \n",
              "  <svg xmlns=\"http://www.w3.org/2000/svg\" height=\"24px\"viewBox=\"0 0 24 24\"\n",
              "       width=\"24px\">\n",
              "    <path d=\"M0 0h24v24H0V0z\" fill=\"none\"/>\n",
              "    <path d=\"M18.56 5.44l.94 2.06.94-2.06 2.06-.94-2.06-.94-.94-2.06-.94 2.06-2.06.94zm-11 1L8.5 8.5l.94-2.06 2.06-.94-2.06-.94L8.5 2.5l-.94 2.06-2.06.94zm10 10l.94 2.06.94-2.06 2.06-.94-2.06-.94-.94-2.06-.94 2.06-2.06.94z\"/><path d=\"M17.41 7.96l-1.37-1.37c-.4-.4-.92-.59-1.43-.59-.52 0-1.04.2-1.43.59L10.3 9.45l-7.72 7.72c-.78.78-.78 2.05 0 2.83L4 21.41c.39.39.9.59 1.41.59.51 0 1.02-.2 1.41-.59l7.78-7.78 2.81-2.81c.8-.78.8-2.07 0-2.86zM5.41 20L4 18.59l7.72-7.72 1.47 1.35L5.41 20z\"/>\n",
              "  </svg>\n",
              "      </button>\n",
              "      \n",
              "  <style>\n",
              "    .colab-df-container {\n",
              "      display:flex;\n",
              "      flex-wrap:wrap;\n",
              "      gap: 12px;\n",
              "    }\n",
              "\n",
              "    .colab-df-convert {\n",
              "      background-color: #E8F0FE;\n",
              "      border: none;\n",
              "      border-radius: 50%;\n",
              "      cursor: pointer;\n",
              "      display: none;\n",
              "      fill: #1967D2;\n",
              "      height: 32px;\n",
              "      padding: 0 0 0 0;\n",
              "      width: 32px;\n",
              "    }\n",
              "\n",
              "    .colab-df-convert:hover {\n",
              "      background-color: #E2EBFA;\n",
              "      box-shadow: 0px 1px 2px rgba(60, 64, 67, 0.3), 0px 1px 3px 1px rgba(60, 64, 67, 0.15);\n",
              "      fill: #174EA6;\n",
              "    }\n",
              "\n",
              "    [theme=dark] .colab-df-convert {\n",
              "      background-color: #3B4455;\n",
              "      fill: #D2E3FC;\n",
              "    }\n",
              "\n",
              "    [theme=dark] .colab-df-convert:hover {\n",
              "      background-color: #434B5C;\n",
              "      box-shadow: 0px 1px 3px 1px rgba(0, 0, 0, 0.15);\n",
              "      filter: drop-shadow(0px 1px 2px rgba(0, 0, 0, 0.3));\n",
              "      fill: #FFFFFF;\n",
              "    }\n",
              "  </style>\n",
              "\n",
              "      <script>\n",
              "        const buttonEl =\n",
              "          document.querySelector('#df-bfdd0cb7-72db-4e79-882e-07693c960aa1 button.colab-df-convert');\n",
              "        buttonEl.style.display =\n",
              "          google.colab.kernel.accessAllowed ? 'block' : 'none';\n",
              "\n",
              "        async function convertToInteractive(key) {\n",
              "          const element = document.querySelector('#df-bfdd0cb7-72db-4e79-882e-07693c960aa1');\n",
              "          const dataTable =\n",
              "            await google.colab.kernel.invokeFunction('convertToInteractive',\n",
              "                                                     [key], {});\n",
              "          if (!dataTable) return;\n",
              "\n",
              "          const docLinkHtml = 'Like what you see? Visit the ' +\n",
              "            '<a target=\"_blank\" href=https://colab.research.google.com/notebooks/data_table.ipynb>data table notebook</a>'\n",
              "            + ' to learn more about interactive tables.';\n",
              "          element.innerHTML = '';\n",
              "          dataTable['output_type'] = 'display_data';\n",
              "          await google.colab.output.renderOutput(dataTable, element);\n",
              "          const docLink = document.createElement('div');\n",
              "          docLink.innerHTML = docLinkHtml;\n",
              "          element.appendChild(docLink);\n",
              "        }\n",
              "      </script>\n",
              "    </div>\n",
              "  </div>\n",
              "  "
            ]
          },
          "metadata": {},
          "execution_count": 87
        },
        {
          "output_type": "display_data",
          "data": {
            "text/plain": [
              "<Figure size 432x288 with 1 Axes>"
            ],
            "image/png": "[encoded data removed]"
          },
          "metadata": {
            "needs_background": "light"
          }
        }
      ]
    },
    {
      "cell_type": "markdown",
      "source": [
        "####Creating Post-processing function in order to bring the temperature and the pressure values back to scale"
      ],
      "metadata": {
        "id": "z1gCJ8DPdY4I"
      }
    },
    {
      "cell_type": "code",
      "source": [
        "def post_process_p(arr):\n",
        "  arr = (arr*p_training_sd3) + p_training_mean3\n",
        "  return arr\n",
        "\n",
        "def post_process_t(arr):\n",
        "  arr = (arr*temp_training_sd3) + temp_training_mean3\n",
        "  return arr"
      ],
      "metadata": {
        "id": "Um-Zx5G4dfFm"
      },
      "execution_count": 85,
      "outputs": []
    }
  ]
}
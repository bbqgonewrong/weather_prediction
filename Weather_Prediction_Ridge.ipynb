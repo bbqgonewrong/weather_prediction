{
  "nbformat": 4,
  "nbformat_minor": 0,
  "metadata": {
    "colab": {
      "name": "Weather_Prediction.ipynb",
      "provenance": []
    },
    "kernelspec": {
      "name": "python3",
      "display_name": "Python 3"
    },
    "language_info": {
      "name": "python"
    }
  },
  "cells": [
    {
      "cell_type": "markdown",
      "source": [
        "##Importing libraries"
      ],
      "metadata": {
        "id": "tiOn9iO5KM6u"
      }
    },
    {
      "cell_type": "code",
      "execution_count": 82,
      "metadata": {
        "id": "HifjCg8p-9jz"
      },
      "outputs": [],
      "source": [
        "import numpy as np\n",
        "import pandas as pd\n",
        "from sklearn.linear_model import Ridge\n",
        "from sklearn.metrics import mean_absolute_error\n"
      ]
    },
    {
      "cell_type": "markdown",
      "source": [
        "##Loading the dataset"
      ],
      "metadata": {
        "id": "QyA3kK_oEZA5"
      }
    },
    {
      "cell_type": "code",
      "source": [
        "weather_data = pd.read_csv('/content/local_weather.csv',index_col='DATE')"
      ],
      "metadata": {
        "id": "AhjgD8yGA606"
      },
      "execution_count": 83,
      "outputs": []
    },
    {
      "cell_type": "code",
      "source": [
        "weather_data.head()"
      ],
      "metadata": {
        "id": "u10lsACHBC09"
      },
      "execution_count": null,
      "outputs": []
    },
    {
      "cell_type": "code",
      "source": [
        "weather_data.loc['1960-01-01']"
      ],
      "metadata": {
        "id": "-1j15jD4BVhP"
      },
      "execution_count": null,
      "outputs": []
    },
    {
      "cell_type": "markdown",
      "source": [
        "##Data Cleaning ... \n",
        "###Only take columns which give us precipitation and the min and the max temps"
      ],
      "metadata": {
        "id": "bO_DP4cTEdfD"
      }
    },
    {
      "cell_type": "code",
      "source": [
        "weather_data.apply(pd.isnull).sum()/weather_data.shape[0]"
      ],
      "metadata": {
        "id": "w58KRjEMBdD7"
      },
      "execution_count": null,
      "outputs": []
    },
    {
      "cell_type": "code",
      "source": [
        "weather_data_imp = weather_data[['PRCP','SNOW','SNWD','TMAX','TMIN']].copy()"
      ],
      "metadata": {
        "id": "8Tb7X1agBsdT"
      },
      "execution_count": 87,
      "outputs": []
    },
    {
      "cell_type": "code",
      "source": [
        "weather_data_imp.columns = ['precip','snow','snow_depth','temp_max','temp_min']"
      ],
      "metadata": {
        "id": "v1l66NvsCMRp"
      },
      "execution_count": 88,
      "outputs": []
    },
    {
      "cell_type": "code",
      "source": [
        "weather_data_imp.apply(pd.isnull).sum()/weather_data_imp.shape[0]"
      ],
      "metadata": {
        "colab": {
          "base_uri": "https://localhost:8080/"
        },
        "id": "PZKezJV8CVbF",
        "outputId": "c7a7c16b-28e6-4969-daa4-4fb80e591965"
      },
      "execution_count": 89,
      "outputs": [
        {
          "output_type": "execute_result",
          "data": {
            "text/plain": [
              "precip        0.016668\n",
              "snow          0.324990\n",
              "snow_depth    0.317634\n",
              "temp_max      0.000534\n",
              "temp_min      0.000593\n",
              "dtype: float64"
            ]
          },
          "metadata": {},
          "execution_count": 89
        }
      ]
    },
    {
      "cell_type": "code",
      "source": [
        "weather_data_imp['snow'].value_counts()"
      ],
      "metadata": {
        "colab": {
          "base_uri": "https://localhost:8080/"
        },
        "id": "UT2Y4bf4CenS",
        "outputId": "b5be8ca8-6ef1-419f-bb0b-0859ec2be86a"
      },
      "execution_count": 90,
      "outputs": [
        {
          "output_type": "execute_result",
          "data": {
            "text/plain": [
              "0.0    11379\n",
              "1.0        1\n",
              "Name: snow, dtype: int64"
            ]
          },
          "metadata": {},
          "execution_count": 90
        }
      ]
    },
    {
      "cell_type": "code",
      "source": [
        "del weather_data_imp['snow']"
      ],
      "metadata": {
        "id": "uZvX2GkTClAi"
      },
      "execution_count": 91,
      "outputs": []
    },
    {
      "cell_type": "code",
      "source": [
        "del weather_data_imp['snow_depth']"
      ],
      "metadata": {
        "id": "UvxN1mTKCyfz"
      },
      "execution_count": 92,
      "outputs": []
    },
    {
      "cell_type": "code",
      "source": [
        "weather_data_imp"
      ],
      "metadata": {
        "id": "LE8nx2t2C1mj"
      },
      "execution_count": null,
      "outputs": []
    },
    {
      "cell_type": "code",
      "source": [
        "weather_data_imp[pd.isnull(weather_data_imp['precip'])]"
      ],
      "metadata": {
        "id": "-nBeL06IC6Mr"
      },
      "execution_count": null,
      "outputs": []
    },
    {
      "cell_type": "code",
      "source": [
        "weather_data_imp['precip'].value_counts()"
      ],
      "metadata": {
        "id": "q1UhA3yvDGLV"
      },
      "execution_count": null,
      "outputs": []
    },
    {
      "cell_type": "code",
      "source": [
        "weather_data_imp['precip'] = weather_data_imp['precip'].fillna(0)"
      ],
      "metadata": {
        "id": "s-TuJ7U4DaXf"
      },
      "execution_count": 96,
      "outputs": []
    },
    {
      "cell_type": "code",
      "source": [
        "weather_data_imp[pd.isnull(weather_data_imp['temp_max'])]\n",
        "#Use forward fill which is to impute the previous value to the null value"
      ],
      "metadata": {
        "id": "5vp6ZR9yDpAp"
      },
      "execution_count": null,
      "outputs": []
    },
    {
      "cell_type": "code",
      "source": [
        "weather_data_imp = weather_data_imp.fillna(method = 'ffill')"
      ],
      "metadata": {
        "id": "347FpJ8iEJCT"
      },
      "execution_count": 98,
      "outputs": []
    },
    {
      "cell_type": "code",
      "source": [
        "weather_data_imp.dtypes"
      ],
      "metadata": {
        "colab": {
          "base_uri": "https://localhost:8080/"
        },
        "id": "2BBV3QdfEq1m",
        "outputId": "e1e3cf67-9643-42a5-b6cd-bc133341cead"
      },
      "execution_count": 99,
      "outputs": [
        {
          "output_type": "execute_result",
          "data": {
            "text/plain": [
              "precip      float64\n",
              "temp_max    float64\n",
              "temp_min    float64\n",
              "dtype: object"
            ]
          },
          "metadata": {},
          "execution_count": 99
        }
      ]
    },
    {
      "cell_type": "code",
      "source": [
        "weather_data_imp.index = pd.to_datetime(weather_data_imp.index)"
      ],
      "metadata": {
        "id": "M3CfXkoMFjNx"
      },
      "execution_count": 100,
      "outputs": []
    },
    {
      "cell_type": "code",
      "source": [
        "weather_data_imp.index"
      ],
      "metadata": {
        "id": "jE4G8zvAFv2H"
      },
      "execution_count": null,
      "outputs": []
    },
    {
      "cell_type": "code",
      "source": [
        "#Checking whether data set is missing values indicated in the dataset by the value 9999\n",
        "weather_data_imp.apply(lambda x: (x==9999).sum())"
      ],
      "metadata": {
        "colab": {
          "base_uri": "https://localhost:8080/"
        },
        "id": "sWzSe2VsFyp4",
        "outputId": "a4a381e5-e509-4c6e-9e50-c3704d28c3d1"
      },
      "execution_count": 102,
      "outputs": [
        {
          "output_type": "execute_result",
          "data": {
            "text/plain": [
              "precip      0\n",
              "temp_max    0\n",
              "temp_min    0\n",
              "dtype: int64"
            ]
          },
          "metadata": {},
          "execution_count": 102
        }
      ]
    },
    {
      "cell_type": "markdown",
      "source": [
        "##EDA"
      ],
      "metadata": {
        "id": "8FrhjHR-GatA"
      }
    },
    {
      "cell_type": "code",
      "source": [
        "weather_data_imp[['temp_max','temp_min']].plot()"
      ],
      "metadata": {
        "colab": {
          "base_uri": "https://localhost:8080/",
          "height": 286
        },
        "id": "4WyEDUhaGSdM",
        "outputId": "2abb046f-dd15-4525-ab39-1235e63869ed"
      },
      "execution_count": 103,
      "outputs": [
        {
          "output_type": "execute_result",
          "data": {
            "text/plain": [
              "<matplotlib.axes._subplots.AxesSubplot at 0x7fa06ad9c150>"
            ]
          },
          "metadata": {},
          "execution_count": 103
        },
        {
          "output_type": "display_data",
          "data": {
            "text/plain": [
              "<Figure size 432x288 with 1 Axes>"
            ],
            "image/png": "[encoded data removed]"
          },
          "metadata": {
            "needs_background": "light"
          }
        }
      ]
    },
    {
      "cell_type": "code",
      "source": [
        "#Find the gaps\n",
        "weather_data_imp.index.year.value_counts()"
      ],
      "metadata": {
        "id": "aHVNyfCqGsnS"
      },
      "execution_count": null,
      "outputs": []
    },
    {
      "cell_type": "code",
      "source": [
        "weather_data_imp['precip'].plot()"
      ],
      "metadata": {
        "colab": {
          "base_uri": "https://localhost:8080/",
          "height": 286
        },
        "id": "23uOHSaxG9wO",
        "outputId": "bbda52d6-e268-4041-844f-49c634c2d7bb"
      },
      "execution_count": 105,
      "outputs": [
        {
          "output_type": "execute_result",
          "data": {
            "text/plain": [
              "<matplotlib.axes._subplots.AxesSubplot at 0x7fa06ab19790>"
            ]
          },
          "metadata": {},
          "execution_count": 105
        },
        {
          "output_type": "display_data",
          "data": {
            "text/plain": [
              "<Figure size 432x288 with 1 Axes>"
            ],
            "image/png": "[encoded data removed]"
          },
          "metadata": {
            "needs_background": "light"
          }
        }
      ]
    },
    {
      "cell_type": "code",
      "source": [
        "weather_data_imp.groupby(weather_data_imp.index.year).sum()['precip'].plot()"
      ],
      "metadata": {
        "colab": {
          "base_uri": "https://localhost:8080/",
          "height": 296
        },
        "id": "Ji7oJRknHIGP",
        "outputId": "1e763689-6938-4be1-a5d3-68fc33d2598e"
      },
      "execution_count": 106,
      "outputs": [
        {
          "output_type": "execute_result",
          "data": {
            "text/plain": [
              "<matplotlib.axes._subplots.AxesSubplot at 0x7fa06a8c21d0>"
            ]
          },
          "metadata": {},
          "execution_count": 106
        },
        {
          "output_type": "display_data",
          "data": {
            "text/plain": [
              "<Figure size 432x288 with 1 Axes>"
            ],
            "image/png": "[encoded data removed]"
          },
          "metadata": {
            "needs_background": "light"
          }
        }
      ]
    },
    {
      "cell_type": "markdown",
      "source": [
        "##Model selection and training"
      ],
      "metadata": {
        "id": "_aoUT6gaHmlr"
      }
    },
    {
      "cell_type": "code",
      "source": [
        "#Creating a target variable which is shifted by -1 to create tomorrow's temp\n",
        "weather_data_imp['target'] = weather_data_imp.shift(-1)['temp_max']"
      ],
      "metadata": {
        "id": "zd45q-KOHplS"
      },
      "execution_count": 107,
      "outputs": []
    },
    {
      "cell_type": "code",
      "source": [
        "weather_data_imp.tail()"
      ],
      "metadata": {
        "colab": {
          "base_uri": "https://localhost:8080/",
          "height": 238
        },
        "id": "58YS_CtNIHVd",
        "outputId": "e35e4c1a-f81a-4cfd-8328-b8570cd9005a"
      },
      "execution_count": 108,
      "outputs": [
        {
          "output_type": "execute_result",
          "data": {
            "text/plain": [
              "            precip  temp_max  temp_min  target\n",
              "DATE                                          \n",
              "2022-01-24     0.0      60.0      39.0    57.0\n",
              "2022-01-25     0.0      57.0      43.0    57.0\n",
              "2022-01-26     0.0      57.0      41.0    67.0\n",
              "2022-01-27     0.0      67.0      39.0    64.0\n",
              "2022-01-28     0.0      64.0      39.0     NaN"
            ],
            "text/html": [
              "\n",
              "  <div id=\"df-b88d2ce2-e0a1-4d81-93cf-ae6d964e9db9\">\n",
              "    <div class=\"colab-df-container\">\n",
              "      <div>\n",
              "<style scoped>\n",
              "    .dataframe tbody tr th:only-of-type {\n",
              "        vertical-align: middle;\n",
              "    }\n",
              "\n",
              "    .dataframe tbody tr th {\n",
              "        vertical-align: top;\n",
              "    }\n",
              "\n",
              "    .dataframe thead th {\n",
              "        text-align: right;\n",
              "    }\n",
              "</style>\n",
              "<table border=\"1\" class=\"dataframe\">\n",
              "  <thead>\n",
              "    <tr style=\"text-align: right;\">\n",
              "      <th></th>\n",
              "      <th>precip</th>\n",
              "      <th>temp_max</th>\n",
              "      <th>temp_min</th>\n",
              "      <th>target</th>\n",
              "    </tr>\n",
              "    <tr>\n",
              "      <th>DATE</th>\n",
              "      <th></th>\n",
              "      <th></th>\n",
              "      <th></th>\n",
              "      <th></th>\n",
              "    </tr>\n",
              "  </thead>\n",
              "  <tbody>\n",
              "    <tr>\n",
              "      <th>2022-01-24</th>\n",
              "      <td>0.0</td>\n",
              "      <td>60.0</td>\n",
              "      <td>39.0</td>\n",
              "      <td>57.0</td>\n",
              "    </tr>\n",
              "    <tr>\n",
              "      <th>2022-01-25</th>\n",
              "      <td>0.0</td>\n",
              "      <td>57.0</td>\n",
              "      <td>43.0</td>\n",
              "      <td>57.0</td>\n",
              "    </tr>\n",
              "    <tr>\n",
              "      <th>2022-01-26</th>\n",
              "      <td>0.0</td>\n",
              "      <td>57.0</td>\n",
              "      <td>41.0</td>\n",
              "      <td>67.0</td>\n",
              "    </tr>\n",
              "    <tr>\n",
              "      <th>2022-01-27</th>\n",
              "      <td>0.0</td>\n",
              "      <td>67.0</td>\n",
              "      <td>39.0</td>\n",
              "      <td>64.0</td>\n",
              "    </tr>\n",
              "    <tr>\n",
              "      <th>2022-01-28</th>\n",
              "      <td>0.0</td>\n",
              "      <td>64.0</td>\n",
              "      <td>39.0</td>\n",
              "      <td>NaN</td>\n",
              "    </tr>\n",
              "  </tbody>\n",
              "</table>\n",
              "</div>\n",
              "      <button class=\"colab-df-convert\" onclick=\"convertToInteractive('df-b88d2ce2-e0a1-4d81-93cf-ae6d964e9db9')\"\n",
              "              title=\"Convert this dataframe to an interactive table.\"\n",
              "              style=\"display:none;\">\n",
              "        \n",
              "  <svg xmlns=\"http://www.w3.org/2000/svg\" height=\"24px\"viewBox=\"0 0 24 24\"\n",
              "       width=\"24px\">\n",
              "    <path d=\"M0 0h24v24H0V0z\" fill=\"none\"/>\n",
              "    <path d=\"M18.56 5.44l.94 2.06.94-2.06 2.06-.94-2.06-.94-.94-2.06-.94 2.06-2.06.94zm-11 1L8.5 8.5l.94-2.06 2.06-.94-2.06-.94L8.5 2.5l-.94 2.06-2.06.94zm10 10l.94 2.06.94-2.06 2.06-.94-2.06-.94-.94-2.06-.94 2.06-2.06.94z\"/><path d=\"M17.41 7.96l-1.37-1.37c-.4-.4-.92-.59-1.43-.59-.52 0-1.04.2-1.43.59L10.3 9.45l-7.72 7.72c-.78.78-.78 2.05 0 2.83L4 21.41c.39.39.9.59 1.41.59.51 0 1.02-.2 1.41-.59l7.78-7.78 2.81-2.81c.8-.78.8-2.07 0-2.86zM5.41 20L4 18.59l7.72-7.72 1.47 1.35L5.41 20z\"/>\n",
              "  </svg>\n",
              "      </button>\n",
              "      \n",
              "  <style>\n",
              "    .colab-df-container {\n",
              "      display:flex;\n",
              "      flex-wrap:wrap;\n",
              "      gap: 12px;\n",
              "    }\n",
              "\n",
              "    .colab-df-convert {\n",
              "      background-color: #E8F0FE;\n",
              "      border: none;\n",
              "      border-radius: 50%;\n",
              "      cursor: pointer;\n",
              "      display: none;\n",
              "      fill: #1967D2;\n",
              "      height: 32px;\n",
              "      padding: 0 0 0 0;\n",
              "      width: 32px;\n",
              "    }\n",
              "\n",
              "    .colab-df-convert:hover {\n",
              "      background-color: #E2EBFA;\n",
              "      box-shadow: 0px 1px 2px rgba(60, 64, 67, 0.3), 0px 1px 3px 1px rgba(60, 64, 67, 0.15);\n",
              "      fill: #174EA6;\n",
              "    }\n",
              "\n",
              "    [theme=dark] .colab-df-convert {\n",
              "      background-color: #3B4455;\n",
              "      fill: #D2E3FC;\n",
              "    }\n",
              "\n",
              "    [theme=dark] .colab-df-convert:hover {\n",
              "      background-color: #434B5C;\n",
              "      box-shadow: 0px 1px 3px 1px rgba(0, 0, 0, 0.15);\n",
              "      filter: drop-shadow(0px 1px 2px rgba(0, 0, 0, 0.3));\n",
              "      fill: #FFFFFF;\n",
              "    }\n",
              "  </style>\n",
              "\n",
              "      <script>\n",
              "        const buttonEl =\n",
              "          document.querySelector('#df-b88d2ce2-e0a1-4d81-93cf-ae6d964e9db9 button.colab-df-convert');\n",
              "        buttonEl.style.display =\n",
              "          google.colab.kernel.accessAllowed ? 'block' : 'none';\n",
              "\n",
              "        async function convertToInteractive(key) {\n",
              "          const element = document.querySelector('#df-b88d2ce2-e0a1-4d81-93cf-ae6d964e9db9');\n",
              "          const dataTable =\n",
              "            await google.colab.kernel.invokeFunction('convertToInteractive',\n",
              "                                                     [key], {});\n",
              "          if (!dataTable) return;\n",
              "\n",
              "          const docLinkHtml = 'Like what you see? Visit the ' +\n",
              "            '<a target=\"_blank\" href=https://colab.research.google.com/notebooks/data_table.ipynb>data table notebook</a>'\n",
              "            + ' to learn more about interactive tables.';\n",
              "          element.innerHTML = '';\n",
              "          dataTable['output_type'] = 'display_data';\n",
              "          await google.colab.output.renderOutput(dataTable, element);\n",
              "          const docLink = document.createElement('div');\n",
              "          docLink.innerHTML = docLinkHtml;\n",
              "          element.appendChild(docLink);\n",
              "        }\n",
              "      </script>\n",
              "    </div>\n",
              "  </div>\n",
              "  "
            ]
          },
          "metadata": {},
          "execution_count": 108
        }
      ]
    },
    {
      "cell_type": "code",
      "source": [
        "weather_data_imp = weather_data_imp.iloc[:-1,:].copy()"
      ],
      "metadata": {
        "id": "ZL4sj2eoITcv"
      },
      "execution_count": 109,
      "outputs": []
    },
    {
      "cell_type": "markdown",
      "source": [
        "###Using Ridge regression \n",
        "#### This is done in order to reduce overfitting"
      ],
      "metadata": {
        "id": "lqHBC9hvIyyx"
      }
    },
    {
      "cell_type": "code",
      "source": [
        "reg = Ridge(alpha=.1)\n"
      ],
      "metadata": {
        "id": "9hor86w3I9We"
      },
      "execution_count": 110,
      "outputs": []
    },
    {
      "cell_type": "code",
      "source": [
        "#Uncomment for rolling avgs\n",
        "predictors = ['precip','temp_max','temp_min','month_max','month_day_max','max_min','monthly_avg','day_of_year_avg']"
      ],
      "metadata": {
        "id": "4new-7hOJMJ7"
      },
      "execution_count": 131,
      "outputs": []
    },
    {
      "cell_type": "markdown",
      "source": [
        "###Train Test data split"
      ],
      "metadata": {
        "id": "a-aWJFQYJmcK"
      }
    },
    {
      "cell_type": "code",
      "source": [
        "#Cannot be shuffled as it is a time series dataset\n",
        "train = weather_data_imp.loc[:'2020-12-31']\n",
        "test = weather_data_imp.loc['2021-01-01':]"
      ],
      "metadata": {
        "id": "zsIxyxbJJUHG"
      },
      "execution_count": 112,
      "outputs": []
    },
    {
      "cell_type": "code",
      "source": [
        "reg.fit(train[predictors],train['target'])"
      ],
      "metadata": {
        "colab": {
          "base_uri": "https://localhost:8080/"
        },
        "id": "lErVxIy3Jpnh",
        "outputId": "a78a3963-bf01-446e-c7f0-3bb803b9aa95"
      },
      "execution_count": 113,
      "outputs": [
        {
          "output_type": "execute_result",
          "data": {
            "text/plain": [
              "Ridge(alpha=0.1)"
            ]
          },
          "metadata": {},
          "execution_count": 113
        }
      ]
    },
    {
      "cell_type": "markdown",
      "source": [
        "###Checking model performance"
      ],
      "metadata": {
        "id": "5GpBzMuyLxn4"
      }
    },
    {
      "cell_type": "code",
      "source": [
        "predictions = reg.predict(test[predictors])"
      ],
      "metadata": {
        "id": "9asT3nyGKAOw"
      },
      "execution_count": 114,
      "outputs": []
    },
    {
      "cell_type": "code",
      "source": [
        "mean_absolute_error(test['target'],predictions)"
      ],
      "metadata": {
        "colab": {
          "base_uri": "https://localhost:8080/"
        },
        "id": "Re_OTTJUKZqA",
        "outputId": "a413cb39-cd17-4061-fa55-c27509a776fa"
      },
      "execution_count": 115,
      "outputs": [
        {
          "output_type": "execute_result",
          "data": {
            "text/plain": [
              "3.4111699434528306"
            ]
          },
          "metadata": {},
          "execution_count": 115
        }
      ]
    },
    {
      "cell_type": "code",
      "source": [
        "combined = pd.concat([test['target'],pd.Series(predictions,index = test.index)],axis = 1)\n",
        "combined.columns = ['actual','predicted']"
      ],
      "metadata": {
        "id": "yb3O_J6GKiF0"
      },
      "execution_count": 116,
      "outputs": []
    },
    {
      "cell_type": "code",
      "source": [
        "combined.plot()"
      ],
      "metadata": {
        "colab": {
          "base_uri": "https://localhost:8080/",
          "height": 294
        },
        "id": "7nFFSIlgK-7y",
        "outputId": "8a1012f4-97aa-472d-8cba-1dd7f5a8e16f"
      },
      "execution_count": 117,
      "outputs": [
        {
          "output_type": "execute_result",
          "data": {
            "text/plain": [
              "<matplotlib.axes._subplots.AxesSubplot at 0x7fa06a836510>"
            ]
          },
          "metadata": {},
          "execution_count": 117
        },
        {
          "output_type": "display_data",
          "data": {
            "text/plain": [
              "<Figure size 432x288 with 1 Axes>"
            ],
            "image/png": "[encoded data removed]"
          },
          "metadata": {
            "needs_background": "light"
          }
        }
      ]
    },
    {
      "cell_type": "code",
      "source": [
        "reg.coef_"
      ],
      "metadata": {
        "colab": {
          "base_uri": "https://localhost:8080/"
        },
        "id": "m1q87oN1LQds",
        "outputId": "80599f96-ad26-42d0-d2de-525c968f5bb7"
      },
      "execution_count": 118,
      "outputs": [
        {
          "output_type": "execute_result",
          "data": {
            "text/plain": [
              "array([-2.20730384,  0.72113834,  0.17969047])"
            ]
          },
          "metadata": {},
          "execution_count": 118
        }
      ]
    },
    {
      "cell_type": "markdown",
      "source": [
        "###Summarising previous steps as a function "
      ],
      "metadata": {
        "id": "jrwWDt6XMkVI"
      }
    },
    {
      "cell_type": "code",
      "source": [
        "def create_predictions(predictors,weather_data_imp,reg):\n",
        "  train = weather_data_imp.loc[:'2020-12-31']\n",
        "  test = weather_data_imp.loc['2021-01-01':]\n",
        "  reg.fit(train[predictors],train['target'])\n",
        "  predictions = reg.predict(test[predictors])\n",
        "  error = mean_absolute_error(test['target'],predictions)\n",
        "  combined = pd.concat([test['target'],pd.Series(predictions,index = test.index)],axis = 1)\n",
        "  combined.columns = ['actual','predicted']\n",
        "  return error,combined"
      ],
      "metadata": {
        "id": "0YncSWQULc5A"
      },
      "execution_count": 124,
      "outputs": []
    },
    {
      "cell_type": "markdown",
      "source": [
        "##Creating rolling variables for better predictions"
      ],
      "metadata": {
        "id": "TCqXqLA_Mo0H"
      }
    },
    {
      "cell_type": "code",
      "source": [
        "weather_data_imp['month_max'] = weather_data_imp['temp_max'].rolling(30).mean()\n",
        "#First 30 days will be null"
      ],
      "metadata": {
        "id": "Fabu2qdrMfAd"
      },
      "execution_count": 119,
      "outputs": []
    },
    {
      "cell_type": "code",
      "source": [
        "weather_data_imp"
      ],
      "metadata": {
        "id": "UGE4A5fSMobe"
      },
      "execution_count": null,
      "outputs": []
    },
    {
      "cell_type": "code",
      "source": [
        "#How much is the daily max temp off from the monthly max average temp\n",
        "weather_data_imp['month_day_max'] = weather_data_imp['month_max']/weather_data_imp['temp_max']\n",
        "#Ratio between the maximum and the minimum temperature\n",
        "weather_data_imp['max_min'] = weather_data_imp['temp_max']/weather_data_imp['temp_min']"
      ],
      "metadata": {
        "id": "ulzz0ICjNISZ"
      },
      "execution_count": 120,
      "outputs": []
    },
    {
      "cell_type": "code",
      "source": [
        "new_vars = 'month_max','month_day_max','max_min'\n",
        "predictors.append(new_vars)"
      ],
      "metadata": {
        "id": "miT3IgiAN0X2"
      },
      "execution_count": 70,
      "outputs": []
    },
    {
      "cell_type": "code",
      "source": [
        "weather_data_imp = weather_data_imp.iloc[30:,:].copy()"
      ],
      "metadata": {
        "id": "FwJ4Nv9tO160"
      },
      "execution_count": 122,
      "outputs": []
    },
    {
      "cell_type": "code",
      "source": [
        "error,combined = create_predictions(predictors,weather_data_imp,reg)"
      ],
      "metadata": {
        "id": "s9u50BSlOES5"
      },
      "execution_count": 125,
      "outputs": []
    },
    {
      "cell_type": "code",
      "source": [
        "error"
      ],
      "metadata": {
        "colab": {
          "base_uri": "https://localhost:8080/"
        },
        "id": "jS88DqMQQEEt",
        "outputId": "1629da18-1185-4904-90e5-89d33811fba4"
      },
      "execution_count": 126,
      "outputs": [
        {
          "output_type": "execute_result",
          "data": {
            "text/plain": [
              "3.3601297462076047"
            ]
          },
          "metadata": {},
          "execution_count": 126
        }
      ]
    },
    {
      "cell_type": "code",
      "source": [
        "combined.plot()"
      ],
      "metadata": {
        "colab": {
          "base_uri": "https://localhost:8080/",
          "height": 294
        },
        "id": "jj8Oh8ICQJtd",
        "outputId": "6e1196f8-120d-4a4f-dd6b-ae40b68b6606"
      },
      "execution_count": 127,
      "outputs": [
        {
          "output_type": "execute_result",
          "data": {
            "text/plain": [
              "<matplotlib.axes._subplots.AxesSubplot at 0x7fa06a754b10>"
            ]
          },
          "metadata": {},
          "execution_count": 127
        },
        {
          "output_type": "display_data",
          "data": {
            "text/plain": [
              "<Figure size 432x288 with 1 Axes>"
            ],
            "image/png": "[encoded data removed]"
          },
          "metadata": {
            "needs_background": "light"
          }
        }
      ]
    },
    {
      "cell_type": "markdown",
      "source": [
        "##Adding a monthly average temp variable"
      ],
      "metadata": {
        "id": "AuUfSk3YQQuU"
      }
    },
    {
      "cell_type": "code",
      "source": [
        "#Monthly avg should be calculated for only the preceeding observations as it is time series data. Avoid future knowledge bias\n",
        "#Monthly average for historic data\n",
        "weather_data_imp['monthly_avg'] = weather_data_imp['temp_max'].groupby(weather_data_imp.index.month).apply(lambda x: x.expanding(1).mean())\n",
        "#Daily average for historic data\n",
        "weather_data_imp['day_of_year_avg'] = weather_data_imp['temp_max'].groupby(weather_data_imp.index.day_of_year).apply(lambda x: x.expanding(1).mean())"
      ],
      "metadata": {
        "id": "Xc5Tfw48QUj-"
      },
      "execution_count": 130,
      "outputs": []
    },
    {
      "cell_type": "code",
      "source": [
        "weather_data_imp.head()"
      ],
      "metadata": {
        "colab": {
          "base_uri": "https://localhost:8080/",
          "height": 282
        },
        "id": "g548lcbBQNpv",
        "outputId": "2f1cf03b-115d-483b-941a-abe6d58fd71b"
      },
      "execution_count": 132,
      "outputs": [
        {
          "output_type": "execute_result",
          "data": {
            "text/plain": [
              "            precip  temp_max  temp_min  target  month_max  month_day_max  \\\n",
              "DATE                                                                       \n",
              "1960-01-31    0.00      59.0      46.0    62.0  55.566667       0.941808   \n",
              "1960-02-01    0.81      62.0      51.0    59.0  56.000000       0.903226   \n",
              "1960-02-02    0.00      59.0      43.0    59.0  56.166667       0.951977   \n",
              "1960-02-03    0.20      59.0      47.0    60.0  56.333333       0.954802   \n",
              "1960-02-04    0.16      60.0      42.0    60.0  56.500000       0.941667   \n",
              "\n",
              "             max_min  monthly_avg  day_of_year_avg  \n",
              "DATE                                                \n",
              "1960-01-31  1.282609         59.0             59.0  \n",
              "1960-02-01  1.215686         62.0             62.0  \n",
              "1960-02-02  1.372093         60.5             59.0  \n",
              "1960-02-03  1.255319         60.0             59.0  \n",
              "1960-02-04  1.428571         60.0             60.0  "
            ],
            "text/html": [
              "\n",
              "  <div id=\"df-d54d845a-3ba8-48fc-af23-dc89bfc3e3de\">\n",
              "    <div class=\"colab-df-container\">\n",
              "      <div>\n",
              "<style scoped>\n",
              "    .dataframe tbody tr th:only-of-type {\n",
              "        vertical-align: middle;\n",
              "    }\n",
              "\n",
              "    .dataframe tbody tr th {\n",
              "        vertical-align: top;\n",
              "    }\n",
              "\n",
              "    .dataframe thead th {\n",
              "        text-align: right;\n",
              "    }\n",
              "</style>\n",
              "<table border=\"1\" class=\"dataframe\">\n",
              "  <thead>\n",
              "    <tr style=\"text-align: right;\">\n",
              "      <th></th>\n",
              "      <th>precip</th>\n",
              "      <th>temp_max</th>\n",
              "      <th>temp_min</th>\n",
              "      <th>target</th>\n",
              "      <th>month_max</th>\n",
              "      <th>month_day_max</th>\n",
              "      <th>max_min</th>\n",
              "      <th>monthly_avg</th>\n",
              "      <th>day_of_year_avg</th>\n",
              "    </tr>\n",
              "    <tr>\n",
              "      <th>DATE</th>\n",
              "      <th></th>\n",
              "      <th></th>\n",
              "      <th></th>\n",
              "      <th></th>\n",
              "      <th></th>\n",
              "      <th></th>\n",
              "      <th></th>\n",
              "      <th></th>\n",
              "      <th></th>\n",
              "    </tr>\n",
              "  </thead>\n",
              "  <tbody>\n",
              "    <tr>\n",
              "      <th>1960-01-31</th>\n",
              "      <td>0.00</td>\n",
              "      <td>59.0</td>\n",
              "      <td>46.0</td>\n",
              "      <td>62.0</td>\n",
              "      <td>55.566667</td>\n",
              "      <td>0.941808</td>\n",
              "      <td>1.282609</td>\n",
              "      <td>59.0</td>\n",
              "      <td>59.0</td>\n",
              "    </tr>\n",
              "    <tr>\n",
              "      <th>1960-02-01</th>\n",
              "      <td>0.81</td>\n",
              "      <td>62.0</td>\n",
              "      <td>51.0</td>\n",
              "      <td>59.0</td>\n",
              "      <td>56.000000</td>\n",
              "      <td>0.903226</td>\n",
              "      <td>1.215686</td>\n",
              "      <td>62.0</td>\n",
              "      <td>62.0</td>\n",
              "    </tr>\n",
              "    <tr>\n",
              "      <th>1960-02-02</th>\n",
              "      <td>0.00</td>\n",
              "      <td>59.0</td>\n",
              "      <td>43.0</td>\n",
              "      <td>59.0</td>\n",
              "      <td>56.166667</td>\n",
              "      <td>0.951977</td>\n",
              "      <td>1.372093</td>\n",
              "      <td>60.5</td>\n",
              "      <td>59.0</td>\n",
              "    </tr>\n",
              "    <tr>\n",
              "      <th>1960-02-03</th>\n",
              "      <td>0.20</td>\n",
              "      <td>59.0</td>\n",
              "      <td>47.0</td>\n",
              "      <td>60.0</td>\n",
              "      <td>56.333333</td>\n",
              "      <td>0.954802</td>\n",
              "      <td>1.255319</td>\n",
              "      <td>60.0</td>\n",
              "      <td>59.0</td>\n",
              "    </tr>\n",
              "    <tr>\n",
              "      <th>1960-02-04</th>\n",
              "      <td>0.16</td>\n",
              "      <td>60.0</td>\n",
              "      <td>42.0</td>\n",
              "      <td>60.0</td>\n",
              "      <td>56.500000</td>\n",
              "      <td>0.941667</td>\n",
              "      <td>1.428571</td>\n",
              "      <td>60.0</td>\n",
              "      <td>60.0</td>\n",
              "    </tr>\n",
              "  </tbody>\n",
              "</table>\n",
              "</div>\n",
              "      <button class=\"colab-df-convert\" onclick=\"convertToInteractive('df-d54d845a-3ba8-48fc-af23-dc89bfc3e3de')\"\n",
              "              title=\"Convert this dataframe to an interactive table.\"\n",
              "              style=\"display:none;\">\n",
              "        \n",
              "  <svg xmlns=\"http://www.w3.org/2000/svg\" height=\"24px\"viewBox=\"0 0 24 24\"\n",
              "       width=\"24px\">\n",
              "    <path d=\"M0 0h24v24H0V0z\" fill=\"none\"/>\n",
              "    <path d=\"M18.56 5.44l.94 2.06.94-2.06 2.06-.94-2.06-.94-.94-2.06-.94 2.06-2.06.94zm-11 1L8.5 8.5l.94-2.06 2.06-.94-2.06-.94L8.5 2.5l-.94 2.06-2.06.94zm10 10l.94 2.06.94-2.06 2.06-.94-2.06-.94-.94-2.06-.94 2.06-2.06.94z\"/><path d=\"M17.41 7.96l-1.37-1.37c-.4-.4-.92-.59-1.43-.59-.52 0-1.04.2-1.43.59L10.3 9.45l-7.72 7.72c-.78.78-.78 2.05 0 2.83L4 21.41c.39.39.9.59 1.41.59.51 0 1.02-.2 1.41-.59l7.78-7.78 2.81-2.81c.8-.78.8-2.07 0-2.86zM5.41 20L4 18.59l7.72-7.72 1.47 1.35L5.41 20z\"/>\n",
              "  </svg>\n",
              "      </button>\n",
              "      \n",
              "  <style>\n",
              "    .colab-df-container {\n",
              "      display:flex;\n",
              "      flex-wrap:wrap;\n",
              "      gap: 12px;\n",
              "    }\n",
              "\n",
              "    .colab-df-convert {\n",
              "      background-color: #E8F0FE;\n",
              "      border: none;\n",
              "      border-radius: 50%;\n",
              "      cursor: pointer;\n",
              "      display: none;\n",
              "      fill: #1967D2;\n",
              "      height: 32px;\n",
              "      padding: 0 0 0 0;\n",
              "      width: 32px;\n",
              "    }\n",
              "\n",
              "    .colab-df-convert:hover {\n",
              "      background-color: #E2EBFA;\n",
              "      box-shadow: 0px 1px 2px rgba(60, 64, 67, 0.3), 0px 1px 3px 1px rgba(60, 64, 67, 0.15);\n",
              "      fill: #174EA6;\n",
              "    }\n",
              "\n",
              "    [theme=dark] .colab-df-convert {\n",
              "      background-color: #3B4455;\n",
              "      fill: #D2E3FC;\n",
              "    }\n",
              "\n",
              "    [theme=dark] .colab-df-convert:hover {\n",
              "      background-color: #434B5C;\n",
              "      box-shadow: 0px 1px 3px 1px rgba(0, 0, 0, 0.15);\n",
              "      filter: drop-shadow(0px 1px 2px rgba(0, 0, 0, 0.3));\n",
              "      fill: #FFFFFF;\n",
              "    }\n",
              "  </style>\n",
              "\n",
              "      <script>\n",
              "        const buttonEl =\n",
              "          document.querySelector('#df-d54d845a-3ba8-48fc-af23-dc89bfc3e3de button.colab-df-convert');\n",
              "        buttonEl.style.display =\n",
              "          google.colab.kernel.accessAllowed ? 'block' : 'none';\n",
              "\n",
              "        async function convertToInteractive(key) {\n",
              "          const element = document.querySelector('#df-d54d845a-3ba8-48fc-af23-dc89bfc3e3de');\n",
              "          const dataTable =\n",
              "            await google.colab.kernel.invokeFunction('convertToInteractive',\n",
              "                                                     [key], {});\n",
              "          if (!dataTable) return;\n",
              "\n",
              "          const docLinkHtml = 'Like what you see? Visit the ' +\n",
              "            '<a target=\"_blank\" href=https://colab.research.google.com/notebooks/data_table.ipynb>data table notebook</a>'\n",
              "            + ' to learn more about interactive tables.';\n",
              "          element.innerHTML = '';\n",
              "          dataTable['output_type'] = 'display_data';\n",
              "          await google.colab.output.renderOutput(dataTable, element);\n",
              "          const docLink = document.createElement('div');\n",
              "          docLink.innerHTML = docLinkHtml;\n",
              "          element.appendChild(docLink);\n",
              "        }\n",
              "      </script>\n",
              "    </div>\n",
              "  </div>\n",
              "  "
            ]
          },
          "metadata": {},
          "execution_count": 132
        }
      ]
    },
    {
      "cell_type": "markdown",
      "source": [
        "##Assessing model performance after adding the monthly and daily average metrics to the dataset"
      ],
      "metadata": {
        "id": "unnMb_-GS6Iw"
      }
    },
    {
      "cell_type": "code",
      "source": [
        "error,combined = create_predictions(predictors,weather_data_imp,reg)"
      ],
      "metadata": {
        "id": "oJp9MtRHQ-BK"
      },
      "execution_count": 133,
      "outputs": []
    },
    {
      "cell_type": "code",
      "source": [
        "error"
      ],
      "metadata": {
        "colab": {
          "base_uri": "https://localhost:8080/"
        },
        "id": "sabo0cC2R-0J",
        "outputId": "d0dadcfe-b964-4b7c-8b35-a5c1522c3ec1"
      },
      "execution_count": 134,
      "outputs": [
        {
          "output_type": "execute_result",
          "data": {
            "text/plain": [
              "3.317692658765995"
            ]
          },
          "metadata": {},
          "execution_count": 134
        }
      ]
    },
    {
      "cell_type": "code",
      "source": [
        "combined.plot()"
      ],
      "metadata": {
        "colab": {
          "base_uri": "https://localhost:8080/",
          "height": 294
        },
        "id": "jpKauxPoSAKP",
        "outputId": "0ed88b71-a197-45d5-c17d-154a00a8abb3"
      },
      "execution_count": 135,
      "outputs": [
        {
          "output_type": "execute_result",
          "data": {
            "text/plain": [
              "<matplotlib.axes._subplots.AxesSubplot at 0x7fa06afa7ed0>"
            ]
          },
          "metadata": {},
          "execution_count": 135
        },
        {
          "output_type": "display_data",
          "data": {
            "text/plain": [
              "<Figure size 432x288 with 1 Axes>"
            ],
            "image/png": "[encoded data removed]"
          },
          "metadata": {
            "needs_background": "light"
          }
        }
      ]
    },
    {
      "cell_type": "code",
      "source": [
        "reg.coef_"
      ],
      "metadata": {
        "colab": {
          "base_uri": "https://localhost:8080/"
        },
        "id": "ZYkqHT1WSHOl",
        "outputId": "87bcb039-d6e6-47bd-decb-f832477320bf"
      },
      "execution_count": 136,
      "outputs": [
        {
          "output_type": "execute_result",
          "data": {
            "text/plain": [
              "array([ -0.90804013,   0.40146278,   0.03114081,   0.33672074,\n",
              "       -15.97061869,   0.0493612 ,   0.14343362,   0.08006707])"
            ]
          },
          "metadata": {},
          "execution_count": 136
        }
      ]
    },
    {
      "cell_type": "code",
      "source": [
        "weather_data_imp.corr()['target']"
      ],
      "metadata": {
        "colab": {
          "base_uri": "https://localhost:8080/"
        },
        "id": "xz2LKiLKSM4p",
        "outputId": "c999f06c-8be7-45e2-b29e-21366af1b714"
      },
      "execution_count": 138,
      "outputs": [
        {
          "output_type": "execute_result",
          "data": {
            "text/plain": [
              "precip            -0.205413\n",
              "temp_max           0.821650\n",
              "temp_min           0.596016\n",
              "target             1.000000\n",
              "month_max          0.686842\n",
              "month_day_max     -0.421537\n",
              "max_min            0.045228\n",
              "monthly_avg        0.689805\n",
              "day_of_year_avg    0.712334\n",
              "Name: target, dtype: float64"
            ]
          },
          "metadata": {},
          "execution_count": 138
        }
      ]
    },
    {
      "cell_type": "code",
      "source": [
        "combined['diff'] = combined['actual'] - combined['predicted'].abs()"
      ],
      "metadata": {
        "id": "29YH-JaxSUvY"
      },
      "execution_count": 140,
      "outputs": []
    },
    {
      "cell_type": "code",
      "source": [
        "combined.sort_values('diff',ascending=False).head()"
      ],
      "metadata": {
        "colab": {
          "base_uri": "https://localhost:8080/",
          "height": 238
        },
        "id": "IH_IgmgJScqA",
        "outputId": "31f2196c-119b-49e0-be62-552fa81e9248"
      },
      "execution_count": 141,
      "outputs": [
        {
          "output_type": "execute_result",
          "data": {
            "text/plain": [
              "            actual  predicted       diff\n",
              "DATE                                    \n",
              "2021-01-17    83.0  68.585837  14.414163\n",
              "2021-05-07    81.0  67.774432  13.225568\n",
              "2021-02-22    84.0  71.168844  12.831156\n",
              "2021-02-21    77.0  64.415171  12.584829\n",
              "2021-03-30    82.0  70.104917  11.895083"
            ],
            "text/html": [
              "\n",
              "  <div id=\"df-47e4874d-a0ab-4dd5-903e-11b073724a24\">\n",
              "    <div class=\"colab-df-container\">\n",
              "      <div>\n",
              "<style scoped>\n",
              "    .dataframe tbody tr th:only-of-type {\n",
              "        vertical-align: middle;\n",
              "    }\n",
              "\n",
              "    .dataframe tbody tr th {\n",
              "        vertical-align: top;\n",
              "    }\n",
              "\n",
              "    .dataframe thead th {\n",
              "        text-align: right;\n",
              "    }\n",
              "</style>\n",
              "<table border=\"1\" class=\"dataframe\">\n",
              "  <thead>\n",
              "    <tr style=\"text-align: right;\">\n",
              "      <th></th>\n",
              "      <th>actual</th>\n",
              "      <th>predicted</th>\n",
              "      <th>diff</th>\n",
              "    </tr>\n",
              "    <tr>\n",
              "      <th>DATE</th>\n",
              "      <th></th>\n",
              "      <th></th>\n",
              "      <th></th>\n",
              "    </tr>\n",
              "  </thead>\n",
              "  <tbody>\n",
              "    <tr>\n",
              "      <th>2021-01-17</th>\n",
              "      <td>83.0</td>\n",
              "      <td>68.585837</td>\n",
              "      <td>14.414163</td>\n",
              "    </tr>\n",
              "    <tr>\n",
              "      <th>2021-05-07</th>\n",
              "      <td>81.0</td>\n",
              "      <td>67.774432</td>\n",
              "      <td>13.225568</td>\n",
              "    </tr>\n",
              "    <tr>\n",
              "      <th>2021-02-22</th>\n",
              "      <td>84.0</td>\n",
              "      <td>71.168844</td>\n",
              "      <td>12.831156</td>\n",
              "    </tr>\n",
              "    <tr>\n",
              "      <th>2021-02-21</th>\n",
              "      <td>77.0</td>\n",
              "      <td>64.415171</td>\n",
              "      <td>12.584829</td>\n",
              "    </tr>\n",
              "    <tr>\n",
              "      <th>2021-03-30</th>\n",
              "      <td>82.0</td>\n",
              "      <td>70.104917</td>\n",
              "      <td>11.895083</td>\n",
              "    </tr>\n",
              "  </tbody>\n",
              "</table>\n",
              "</div>\n",
              "      <button class=\"colab-df-convert\" onclick=\"convertToInteractive('df-47e4874d-a0ab-4dd5-903e-11b073724a24')\"\n",
              "              title=\"Convert this dataframe to an interactive table.\"\n",
              "              style=\"display:none;\">\n",
              "        \n",
              "  <svg xmlns=\"http://www.w3.org/2000/svg\" height=\"24px\"viewBox=\"0 0 24 24\"\n",
              "       width=\"24px\">\n",
              "    <path d=\"M0 0h24v24H0V0z\" fill=\"none\"/>\n",
              "    <path d=\"M18.56 5.44l.94 2.06.94-2.06 2.06-.94-2.06-.94-.94-2.06-.94 2.06-2.06.94zm-11 1L8.5 8.5l.94-2.06 2.06-.94-2.06-.94L8.5 2.5l-.94 2.06-2.06.94zm10 10l.94 2.06.94-2.06 2.06-.94-2.06-.94-.94-2.06-.94 2.06-2.06.94z\"/><path d=\"M17.41 7.96l-1.37-1.37c-.4-.4-.92-.59-1.43-.59-.52 0-1.04.2-1.43.59L10.3 9.45l-7.72 7.72c-.78.78-.78 2.05 0 2.83L4 21.41c.39.39.9.59 1.41.59.51 0 1.02-.2 1.41-.59l7.78-7.78 2.81-2.81c.8-.78.8-2.07 0-2.86zM5.41 20L4 18.59l7.72-7.72 1.47 1.35L5.41 20z\"/>\n",
              "  </svg>\n",
              "      </button>\n",
              "      \n",
              "  <style>\n",
              "    .colab-df-container {\n",
              "      display:flex;\n",
              "      flex-wrap:wrap;\n",
              "      gap: 12px;\n",
              "    }\n",
              "\n",
              "    .colab-df-convert {\n",
              "      background-color: #E8F0FE;\n",
              "      border: none;\n",
              "      border-radius: 50%;\n",
              "      cursor: pointer;\n",
              "      display: none;\n",
              "      fill: #1967D2;\n",
              "      height: 32px;\n",
              "      padding: 0 0 0 0;\n",
              "      width: 32px;\n",
              "    }\n",
              "\n",
              "    .colab-df-convert:hover {\n",
              "      background-color: #E2EBFA;\n",
              "      box-shadow: 0px 1px 2px rgba(60, 64, 67, 0.3), 0px 1px 3px 1px rgba(60, 64, 67, 0.15);\n",
              "      fill: #174EA6;\n",
              "    }\n",
              "\n",
              "    [theme=dark] .colab-df-convert {\n",
              "      background-color: #3B4455;\n",
              "      fill: #D2E3FC;\n",
              "    }\n",
              "\n",
              "    [theme=dark] .colab-df-convert:hover {\n",
              "      background-color: #434B5C;\n",
              "      box-shadow: 0px 1px 3px 1px rgba(0, 0, 0, 0.15);\n",
              "      filter: drop-shadow(0px 1px 2px rgba(0, 0, 0, 0.3));\n",
              "      fill: #FFFFFF;\n",
              "    }\n",
              "  </style>\n",
              "\n",
              "      <script>\n",
              "        const buttonEl =\n",
              "          document.querySelector('#df-47e4874d-a0ab-4dd5-903e-11b073724a24 button.colab-df-convert');\n",
              "        buttonEl.style.display =\n",
              "          google.colab.kernel.accessAllowed ? 'block' : 'none';\n",
              "\n",
              "        async function convertToInteractive(key) {\n",
              "          const element = document.querySelector('#df-47e4874d-a0ab-4dd5-903e-11b073724a24');\n",
              "          const dataTable =\n",
              "            await google.colab.kernel.invokeFunction('convertToInteractive',\n",
              "                                                     [key], {});\n",
              "          if (!dataTable) return;\n",
              "\n",
              "          const docLinkHtml = 'Like what you see? Visit the ' +\n",
              "            '<a target=\"_blank\" href=https://colab.research.google.com/notebooks/data_table.ipynb>data table notebook</a>'\n",
              "            + ' to learn more about interactive tables.';\n",
              "          element.innerHTML = '';\n",
              "          dataTable['output_type'] = 'display_data';\n",
              "          await google.colab.output.renderOutput(dataTable, element);\n",
              "          const docLink = document.createElement('div');\n",
              "          docLink.innerHTML = docLinkHtml;\n",
              "          element.appendChild(docLink);\n",
              "        }\n",
              "      </script>\n",
              "    </div>\n",
              "  </div>\n",
              "  "
            ]
          },
          "metadata": {},
          "execution_count": 141
        }
      ]
    },
    {
      "cell_type": "code",
      "source": [
        "combined.sort_values('diff',ascending=False).plot()"
      ],
      "metadata": {
        "colab": {
          "base_uri": "https://localhost:8080/",
          "height": 294
        },
        "id": "wdh3lYhRSmvs",
        "outputId": "ac5d2593-9e25-48b1-cb57-99d09d9b58be"
      },
      "execution_count": 142,
      "outputs": [
        {
          "output_type": "execute_result",
          "data": {
            "text/plain": [
              "<matplotlib.axes._subplots.AxesSubplot at 0x7fa06a62dd10>"
            ]
          },
          "metadata": {},
          "execution_count": 142
        },
        {
          "output_type": "display_data",
          "data": {
            "text/plain": [
              "<Figure size 432x288 with 1 Axes>"
            ],
            "image/png": "[encoded data removed]"
          },
          "metadata": {
            "needs_background": "light"
          }
        }
      ]
    }
  ]
}
